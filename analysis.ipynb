{
 "nbformat": 4,
 "nbformat_minor": 2,
 "metadata": {
  "language_info": {
   "name": "python",
   "codemirror_mode": {
    "name": "ipython",
    "version": 3
   },
   "version": "3.7.7-final"
  },
  "orig_nbformat": 2,
  "file_extension": ".py",
  "mimetype": "text/x-python",
  "name": "python",
  "npconvert_exporter": "python",
  "pygments_lexer": "ipython3",
  "version": 3,
  "kernelspec": {
   "name": "python37664bitbasecondaabea00532505455fa020fee0000a07d7",
   "display_name": "Python 3.7.6 64-bit ('base': conda)"
  }
 },
 "cells": [
  {
   "cell_type": "markdown",
   "metadata": {},
   "source": [
    "![title](img/1.png)\n",
    "## DECISION TREE\n",
    "Decision tree merupakan salah satu dari algoritma machine learning yang dapat digunakan untuk melakukan klasifikasi dan juga regresi, pada module kali ini kita akan menggunakan decision tree sebagai algoritma klasifikasi\n",
    "\n",
    "## Langkah-langkah:\n",
    "\n",
    "1. Import module\n",
    "2. Persiapan Data \n",
    "3. EDA (Exploratory Data Analysis)\n",
    "4. Data Preparation\n",
    "5. Pembuatan model machine learning\n",
    "6. Validasi Model    \n",
    "7. Klasifikasi"
   ]
  },
  {
   "cell_type": "markdown",
   "metadata": {},
   "source": [
    "# INSTALL MODULE TAMBAHAN: \n",
    "* conda install python-graphviz\n",
    "* conda install graphviz\n"
   ]
  },
  {
   "cell_type": "markdown",
   "metadata": {},
   "source": [
    "## 1. Import Module\n",
    "Langkah pertama yang akan kita lakukan adalah melakukan import module yang akan dipakai selama klasifikasi ini berlangsung\n"
   ]
  },
  {
   "cell_type": "code",
   "execution_count": 1,
   "metadata": {},
   "outputs": [],
   "source": [
    "import pandas as pd\n",
    "import matplotlib.pyplot as plt\n",
    "import seaborn as sns\n",
    "import numpy as np\n",
    "import graphviz\n",
    "from sklearn.tree import DecisionTreeClassifier, export_graphviz\n",
    "from sklearn.model_selection import train_test_split\n",
    "from sklearn.metrics import accuracy_score\n",
    "from sklearn.metrics import classification_report"
   ]
  },
  {
   "cell_type": "markdown",
   "metadata": {},
   "source": [
    "## 2. Persiapan Data\n",
    "Pada langkah kali ini, kita akan mencari data yang akan kita gunakan, pada klasifikasi kali ini, data yang kita gunakan merupakan data obat untuk  pemilihan obat berdasarkan kondisi pasien\n",
    "\n",
    "Terdapat beberapa feature / atribut didalam dataset ini antara lain:\n",
    "* Age >> Umur dari pasien\n",
    "* Sex >> Jenis kelamin pasien\n",
    "* BP >> Blood Pressure / Tekanan darah dari pasien\n",
    "* Cholesterol >> Tingkat kolestrol pasien\n",
    "* Na_to_K >> Natrium / Kalium dalam darah\n",
    "* Drug >> Jenis obat yang digunakan\n",
    "\n",
    "https://www.kaggle.com/gangliu/drugsets\n",
    "\n",
    "![title](img/dataset.png)\n"
   ]
  },
  {
   "cell_type": "code",
   "execution_count": 2,
   "metadata": {},
   "outputs": [
    {
     "output_type": "execute_result",
     "data": {
      "text/plain": "   Age Sex      BP Cholesterol  Na_to_K   Drug\n0   23   F    HIGH        HIGH   25.355  drugY\n1   47   M     LOW        HIGH   13.093  drugC\n2   47   M     LOW        HIGH   10.114  drugC\n3   28   F  NORMAL        HIGH    7.798  drugX\n4   61   F     LOW        HIGH   18.043  drugY",
      "text/html": "<div>\n<style scoped>\n    .dataframe tbody tr th:only-of-type {\n        vertical-align: middle;\n    }\n\n    .dataframe tbody tr th {\n        vertical-align: top;\n    }\n\n    .dataframe thead th {\n        text-align: right;\n    }\n</style>\n<table border=\"1\" class=\"dataframe\">\n  <thead>\n    <tr style=\"text-align: right;\">\n      <th></th>\n      <th>Age</th>\n      <th>Sex</th>\n      <th>BP</th>\n      <th>Cholesterol</th>\n      <th>Na_to_K</th>\n      <th>Drug</th>\n    </tr>\n  </thead>\n  <tbody>\n    <tr>\n      <th>0</th>\n      <td>23</td>\n      <td>F</td>\n      <td>HIGH</td>\n      <td>HIGH</td>\n      <td>25.355</td>\n      <td>drugY</td>\n    </tr>\n    <tr>\n      <th>1</th>\n      <td>47</td>\n      <td>M</td>\n      <td>LOW</td>\n      <td>HIGH</td>\n      <td>13.093</td>\n      <td>drugC</td>\n    </tr>\n    <tr>\n      <th>2</th>\n      <td>47</td>\n      <td>M</td>\n      <td>LOW</td>\n      <td>HIGH</td>\n      <td>10.114</td>\n      <td>drugC</td>\n    </tr>\n    <tr>\n      <th>3</th>\n      <td>28</td>\n      <td>F</td>\n      <td>NORMAL</td>\n      <td>HIGH</td>\n      <td>7.798</td>\n      <td>drugX</td>\n    </tr>\n    <tr>\n      <th>4</th>\n      <td>61</td>\n      <td>F</td>\n      <td>LOW</td>\n      <td>HIGH</td>\n      <td>18.043</td>\n      <td>drugY</td>\n    </tr>\n  </tbody>\n</table>\n</div>"
     },
     "metadata": {},
     "execution_count": 2
    }
   ],
   "source": [
    "#Load data & tampilkan 5 baris teratas\n",
    "df = pd.read_csv('dataset/drug200.csv')\n",
    "df.head()"
   ]
  },
  {
   "cell_type": "markdown",
   "metadata": {},
   "source": [
    "## 3. EDA (Exploratory Data Analysis)\n",
    "EDA merupakan proses analisis data, pada proses ini kita mencari suatu pattern dan insight dari suatu data, dimana hasil dari eksplorasi ini akan digunakan untuk memudahkan kita dalam membuat model machine learning nanti"
   ]
  },
  {
   "cell_type": "code",
   "execution_count": 3,
   "metadata": {},
   "outputs": [
    {
     "output_type": "stream",
     "name": "stdout",
     "text": "<class 'pandas.core.frame.DataFrame'>\nRangeIndex: 200 entries, 0 to 199\nData columns (total 6 columns):\n #   Column       Non-Null Count  Dtype  \n---  ------       --------------  -----  \n 0   Age          200 non-null    int64  \n 1   Sex          200 non-null    object \n 2   BP           200 non-null    object \n 3   Cholesterol  200 non-null    object \n 4   Na_to_K      200 non-null    float64\n 5   Drug         200 non-null    object \ndtypes: float64(1), int64(1), object(4)\nmemory usage: 9.5+ KB\n"
    }
   ],
   "source": [
    "#Output informasi penting pada data\n",
    "df.info()"
   ]
  },
  {
   "cell_type": "code",
   "execution_count": 4,
   "metadata": {},
   "outputs": [
    {
     "output_type": "stream",
     "name": "stdout",
     "text": "47    8\n49    7\n23    7\n28    7\n39    6\n32    6\n50    5\n22    5\n58    5\n37    5\n60    5\n43    4\n42    4\n41    4\n74    4\n51    4\n34    4\n31    4\n26    4\n24    4\n20    4\n36    4\n45    4\n72    4\n56    4\n57    4\n68    4\n67    4\n65    4\n61    4\n64    3\n35    3\n16    3\n18    3\n70    3\n69    3\n53    3\n15    3\n40    3\n38    3\n59    3\n55    2\n48    2\n19    2\n46    2\n73    2\n52    2\n66    2\n29    2\n62    2\n33    1\n25    1\n21    1\n30    1\n54    1\n17    1\n63    1\nName: Age, dtype: int64\n\n\nM    104\nF     96\nName: Sex, dtype: int64\n\n\nHIGH      77\nLOW       64\nNORMAL    59\nName: BP, dtype: int64\n\n\nHIGH      103\nNORMAL     97\nName: Cholesterol, dtype: int64\n\n\n12.006    2\n18.295    2\n9.945     1\n9.475     1\n20.013    1\n         ..\n13.884    1\n7.285     1\n22.905    1\n7.340     1\n8.750     1\nName: Na_to_K, Length: 198, dtype: int64\n\n\ndrugY    91\ndrugX    54\ndrugA    23\ndrugB    16\ndrugC    16\nName: Drug, dtype: int64\n\n\n"
    }
   ],
   "source": [
    "#Cek nilai pada setiap feature / column\n",
    "for col in df.columns:\n",
    "    print(f'{df[col].value_counts()}\\n\\n')"
   ]
  },
  {
   "cell_type": "code",
   "execution_count": 5,
   "metadata": {},
   "outputs": [
    {
     "output_type": "execute_result",
     "data": {
      "text/plain": "Age            0.0\nSex            0.0\nBP             0.0\nCholesterol    0.0\nNa_to_K        0.0\nDrug           0.0\ndtype: float64"
     },
     "metadata": {},
     "execution_count": 5
    }
   ],
   "source": [
    "#Cek apakah terdapat data kosong atau tidak, outputkan dalam persentase\n",
    "df.isna().sum() / len(df)"
   ]
  },
  {
   "cell_type": "code",
   "execution_count": 6,
   "metadata": {},
   "outputs": [
    {
     "output_type": "execute_result",
     "data": {
      "text/plain": "Empty DataFrame\nColumns: [Age, Sex, BP, Cholesterol, Na_to_K, Drug]\nIndex: []",
      "text/html": "<div>\n<style scoped>\n    .dataframe tbody tr th:only-of-type {\n        vertical-align: middle;\n    }\n\n    .dataframe tbody tr th {\n        vertical-align: top;\n    }\n\n    .dataframe thead th {\n        text-align: right;\n    }\n</style>\n<table border=\"1\" class=\"dataframe\">\n  <thead>\n    <tr style=\"text-align: right;\">\n      <th></th>\n      <th>Age</th>\n      <th>Sex</th>\n      <th>BP</th>\n      <th>Cholesterol</th>\n      <th>Na_to_K</th>\n      <th>Drug</th>\n    </tr>\n  </thead>\n  <tbody>\n  </tbody>\n</table>\n</div>"
     },
     "metadata": {},
     "execution_count": 6
    }
   ],
   "source": [
    "#Cek apakah terdapat instance yang duplikat atau tidak\n",
    "df[df.duplicated() == True]"
   ]
  },
  {
   "cell_type": "markdown",
   "metadata": {},
   "source": [
    "Dari eksplorasi data yang kita lakukan, tidak ditemukan nilai kosong / NaN dan juga nilai yang duplikat, kita dapat lanjut ke langkah berikutnya"
   ]
  },
  {
   "cell_type": "code",
   "execution_count": 7,
   "metadata": {},
   "outputs": [
    {
     "output_type": "display_data",
     "data": {
      "text/plain": "<Figure size 432x288 with 1 Axes>",
      "image/svg+xml": "<?xml version=\"1.0\" encoding=\"utf-8\" standalone=\"no\"?>\r\n<!DOCTYPE svg PUBLIC \"-//W3C//DTD SVG 1.1//EN\"\r\n  \"http://www.w3.org/Graphics/SVG/1.1/DTD/svg11.dtd\">\r\n<!-- Created with matplotlib (https://matplotlib.org/) -->\r\n<svg height=\"281.367188pt\" version=\"1.1\" viewBox=\"0 0 386.049062 281.367188\" width=\"386.049062pt\" xmlns=\"http://www.w3.org/2000/svg\" xmlns:xlink=\"http://www.w3.org/1999/xlink\">\r\n <defs>\r\n  <style type=\"text/css\">\r\n*{stroke-linecap:butt;stroke-linejoin:round;}\r\n  </style>\r\n </defs>\r\n <g id=\"figure_1\">\r\n  <g id=\"patch_1\">\r\n   <path d=\"M 0 281.367188 \r\nL 386.049062 281.367188 \r\nL 386.049062 0 \r\nL 0 0 \r\nz\r\n\" style=\"fill:#ffffff;\"/>\r\n  </g>\r\n  <g id=\"axes_1\">\r\n   <g id=\"patch_2\">\r\n    <path d=\"M 44.049063 239.229375 \r\nL 378.849063 239.229375 \r\nL 378.849063 21.789375 \r\nL 44.049063 21.789375 \r\nz\r\n\" style=\"fill:#eaeaf2;\"/>\r\n   </g>\r\n   <g id=\"matplotlib.axis_1\">\r\n    <g id=\"xtick_1\">\r\n     <g id=\"text_1\">\r\n      <!-- drugY -->\r\n      <defs>\r\n       <path d=\"M 40.234375 0 \r\nL 40.234375 6.546875 \r\nQ 35.296875 -1.171875 25.734375 -1.171875 \r\nQ 19.53125 -1.171875 14.328125 2.25 \r\nQ 9.125 5.671875 6.265625 11.796875 \r\nQ 3.421875 17.921875 3.421875 25.875 \r\nQ 3.421875 33.640625 6 39.96875 \r\nQ 8.59375 46.296875 13.765625 49.65625 \r\nQ 18.953125 53.03125 25.34375 53.03125 \r\nQ 30.03125 53.03125 33.6875 51.046875 \r\nQ 37.359375 49.078125 39.65625 45.90625 \r\nL 39.65625 71.578125 \r\nL 48.390625 71.578125 \r\nL 48.390625 0 \r\nz\r\nM 12.453125 25.875 \r\nQ 12.453125 15.921875 16.640625 10.984375 \r\nQ 20.84375 6.0625 26.5625 6.0625 \r\nQ 32.328125 6.0625 36.34375 10.765625 \r\nQ 40.375 15.484375 40.375 25.140625 \r\nQ 40.375 35.796875 36.265625 40.765625 \r\nQ 32.171875 45.75 26.171875 45.75 \r\nQ 20.3125 45.75 16.375 40.96875 \r\nQ 12.453125 36.1875 12.453125 25.875 \r\nz\r\n\" id=\"ArialMT-100\"/>\r\n       <path d=\"M 6.5 0 \r\nL 6.5 51.859375 \r\nL 14.40625 51.859375 \r\nL 14.40625 44 \r\nQ 17.4375 49.515625 20 51.265625 \r\nQ 22.5625 53.03125 25.640625 53.03125 \r\nQ 30.078125 53.03125 34.671875 50.203125 \r\nL 31.640625 42.046875 \r\nQ 28.421875 43.953125 25.203125 43.953125 \r\nQ 22.3125 43.953125 20.015625 42.21875 \r\nQ 17.71875 40.484375 16.75 37.40625 \r\nQ 15.28125 32.71875 15.28125 27.15625 \r\nL 15.28125 0 \r\nz\r\n\" id=\"ArialMT-114\"/>\r\n       <path d=\"M 40.578125 0 \r\nL 40.578125 7.625 \r\nQ 34.515625 -1.171875 24.125 -1.171875 \r\nQ 19.53125 -1.171875 15.546875 0.578125 \r\nQ 11.578125 2.34375 9.640625 5 \r\nQ 7.71875 7.671875 6.9375 11.53125 \r\nQ 6.390625 14.109375 6.390625 19.734375 \r\nL 6.390625 51.859375 \r\nL 15.1875 51.859375 \r\nL 15.1875 23.09375 \r\nQ 15.1875 16.21875 15.71875 13.8125 \r\nQ 16.546875 10.359375 19.234375 8.375 \r\nQ 21.921875 6.390625 25.875 6.390625 \r\nQ 29.828125 6.390625 33.296875 8.421875 \r\nQ 36.765625 10.453125 38.203125 13.9375 \r\nQ 39.65625 17.4375 39.65625 24.078125 \r\nL 39.65625 51.859375 \r\nL 48.4375 51.859375 \r\nL 48.4375 0 \r\nz\r\n\" id=\"ArialMT-117\"/>\r\n       <path d=\"M 4.984375 -4.296875 \r\nL 13.53125 -5.5625 \r\nQ 14.0625 -9.515625 16.5 -11.328125 \r\nQ 19.78125 -13.765625 25.4375 -13.765625 \r\nQ 31.546875 -13.765625 34.859375 -11.328125 \r\nQ 38.1875 -8.890625 39.359375 -4.5 \r\nQ 40.046875 -1.8125 39.984375 6.78125 \r\nQ 34.234375 0 25.640625 0 \r\nQ 14.9375 0 9.078125 7.71875 \r\nQ 3.21875 15.4375 3.21875 26.21875 \r\nQ 3.21875 33.640625 5.90625 39.90625 \r\nQ 8.59375 46.1875 13.6875 49.609375 \r\nQ 18.796875 53.03125 25.6875 53.03125 \r\nQ 34.859375 53.03125 40.828125 45.609375 \r\nL 40.828125 51.859375 \r\nL 48.921875 51.859375 \r\nL 48.921875 7.03125 \r\nQ 48.921875 -5.078125 46.453125 -10.125 \r\nQ 44 -15.1875 38.640625 -18.109375 \r\nQ 33.296875 -21.046875 25.484375 -21.046875 \r\nQ 16.21875 -21.046875 10.5 -16.875 \r\nQ 4.78125 -12.703125 4.984375 -4.296875 \r\nz\r\nM 12.25 26.859375 \r\nQ 12.25 16.65625 16.296875 11.96875 \r\nQ 20.359375 7.28125 26.46875 7.28125 \r\nQ 32.515625 7.28125 36.609375 11.9375 \r\nQ 40.71875 16.609375 40.71875 26.5625 \r\nQ 40.71875 36.078125 36.5 40.90625 \r\nQ 32.28125 45.75 26.3125 45.75 \r\nQ 20.453125 45.75 16.34375 40.984375 \r\nQ 12.25 36.234375 12.25 26.859375 \r\nz\r\n\" id=\"ArialMT-103\"/>\r\n       <path d=\"M 27.875 0 \r\nL 27.875 30.328125 \r\nL 0.296875 71.578125 \r\nL 11.8125 71.578125 \r\nL 25.921875 50 \r\nQ 29.828125 43.953125 33.203125 37.890625 \r\nQ 36.421875 43.5 41.015625 50.53125 \r\nL 54.890625 71.578125 \r\nL 65.921875 71.578125 \r\nL 37.359375 30.328125 \r\nL 37.359375 0 \r\nz\r\n\" id=\"ArialMT-89\"/>\r\n      </defs>\r\n      <g style=\"fill:#262626;\" transform=\"translate(62.853516 256.602969)scale(0.11 -0.11)\">\r\n       <use xlink:href=\"#ArialMT-100\"/>\r\n       <use x=\"55.615234\" xlink:href=\"#ArialMT-114\"/>\r\n       <use x=\"88.916016\" xlink:href=\"#ArialMT-117\"/>\r\n       <use x=\"144.53125\" xlink:href=\"#ArialMT-103\"/>\r\n       <use x=\"200.146484\" xlink:href=\"#ArialMT-89\"/>\r\n      </g>\r\n     </g>\r\n    </g>\r\n    <g id=\"xtick_2\">\r\n     <g id=\"text_2\">\r\n      <!-- drugC -->\r\n      <defs>\r\n       <path d=\"M 58.796875 25.09375 \r\nL 68.265625 22.703125 \r\nQ 65.28125 11.03125 57.546875 4.90625 \r\nQ 49.8125 -1.21875 38.625 -1.21875 \r\nQ 27.046875 -1.21875 19.796875 3.484375 \r\nQ 12.546875 8.203125 8.765625 17.140625 \r\nQ 4.984375 26.078125 4.984375 36.328125 \r\nQ 4.984375 47.515625 9.25 55.828125 \r\nQ 13.53125 64.15625 21.40625 68.46875 \r\nQ 29.296875 72.796875 38.765625 72.796875 \r\nQ 49.515625 72.796875 56.828125 67.328125 \r\nQ 64.15625 61.859375 67.046875 51.953125 \r\nL 57.71875 49.75 \r\nQ 55.21875 57.5625 50.484375 61.125 \r\nQ 45.75 64.703125 38.578125 64.703125 \r\nQ 30.328125 64.703125 24.78125 60.734375 \r\nQ 19.234375 56.78125 16.984375 50.109375 \r\nQ 14.75 43.453125 14.75 36.375 \r\nQ 14.75 27.25 17.40625 20.4375 \r\nQ 20.0625 13.625 25.671875 10.25 \r\nQ 31.296875 6.890625 37.84375 6.890625 \r\nQ 45.796875 6.890625 51.3125 11.46875 \r\nQ 56.84375 16.0625 58.796875 25.09375 \r\nz\r\n\" id=\"ArialMT-67\"/>\r\n      </defs>\r\n      <g style=\"fill:#262626;\" transform=\"translate(129.510156 256.737031)scale(0.11 -0.11)\">\r\n       <use xlink:href=\"#ArialMT-100\"/>\r\n       <use x=\"55.615234\" xlink:href=\"#ArialMT-114\"/>\r\n       <use x=\"88.916016\" xlink:href=\"#ArialMT-117\"/>\r\n       <use x=\"144.53125\" xlink:href=\"#ArialMT-103\"/>\r\n       <use x=\"200.146484\" xlink:href=\"#ArialMT-67\"/>\r\n      </g>\r\n     </g>\r\n    </g>\r\n    <g id=\"xtick_3\">\r\n     <g id=\"text_3\">\r\n      <!-- drugX -->\r\n      <defs>\r\n       <path d=\"M 0.4375 0 \r\nL 28.125 37.3125 \r\nL 3.71875 71.578125 \r\nL 14.984375 71.578125 \r\nL 27.984375 53.21875 \r\nQ 32.03125 47.515625 33.734375 44.4375 \r\nQ 36.140625 48.34375 39.40625 52.59375 \r\nL 53.8125 71.578125 \r\nL 64.109375 71.578125 \r\nL 38.96875 37.84375 \r\nL 66.0625 0 \r\nL 54.34375 0 \r\nL 36.328125 25.53125 \r\nQ 34.8125 27.734375 33.203125 30.328125 \r\nQ 30.8125 26.421875 29.78125 24.953125 \r\nL 11.8125 0 \r\nz\r\n\" id=\"ArialMT-88\"/>\r\n      </defs>\r\n      <g style=\"fill:#262626;\" transform=\"translate(196.773516 256.602969)scale(0.11 -0.11)\">\r\n       <use xlink:href=\"#ArialMT-100\"/>\r\n       <use x=\"55.615234\" xlink:href=\"#ArialMT-114\"/>\r\n       <use x=\"88.916016\" xlink:href=\"#ArialMT-117\"/>\r\n       <use x=\"144.53125\" xlink:href=\"#ArialMT-103\"/>\r\n       <use x=\"200.146484\" xlink:href=\"#ArialMT-88\"/>\r\n      </g>\r\n     </g>\r\n    </g>\r\n    <g id=\"xtick_4\">\r\n     <g id=\"text_4\">\r\n      <!-- drugA -->\r\n      <defs>\r\n       <path d=\"M -0.140625 0 \r\nL 27.34375 71.578125 \r\nL 37.546875 71.578125 \r\nL 66.84375 0 \r\nL 56.0625 0 \r\nL 47.703125 21.6875 \r\nL 17.78125 21.6875 \r\nL 9.90625 0 \r\nz\r\nM 20.515625 29.390625 \r\nL 44.78125 29.390625 \r\nL 37.3125 49.21875 \r\nQ 33.890625 58.25 32.234375 64.0625 \r\nQ 30.859375 57.171875 28.375 50.390625 \r\nz\r\n\" id=\"ArialMT-65\"/>\r\n      </defs>\r\n      <g style=\"fill:#262626;\" transform=\"translate(263.733516 256.602969)scale(0.11 -0.11)\">\r\n       <use xlink:href=\"#ArialMT-100\"/>\r\n       <use x=\"55.615234\" xlink:href=\"#ArialMT-114\"/>\r\n       <use x=\"88.916016\" xlink:href=\"#ArialMT-117\"/>\r\n       <use x=\"144.53125\" xlink:href=\"#ArialMT-103\"/>\r\n       <use x=\"200.146484\" xlink:href=\"#ArialMT-65\"/>\r\n      </g>\r\n     </g>\r\n    </g>\r\n    <g id=\"xtick_5\">\r\n     <g id=\"text_5\">\r\n      <!-- drugB -->\r\n      <defs>\r\n       <path d=\"M 7.328125 0 \r\nL 7.328125 71.578125 \r\nL 34.1875 71.578125 \r\nQ 42.390625 71.578125 47.34375 69.40625 \r\nQ 52.296875 67.234375 55.09375 62.71875 \r\nQ 57.90625 58.203125 57.90625 53.265625 \r\nQ 57.90625 48.6875 55.421875 44.625 \r\nQ 52.9375 40.578125 47.90625 38.09375 \r\nQ 54.390625 36.1875 57.875 31.59375 \r\nQ 61.375 27 61.375 20.75 \r\nQ 61.375 15.71875 59.25 11.390625 \r\nQ 57.125 7.078125 54 4.734375 \r\nQ 50.875 2.390625 46.15625 1.1875 \r\nQ 41.453125 0 34.625 0 \r\nz\r\nM 16.796875 41.5 \r\nL 32.28125 41.5 \r\nQ 38.578125 41.5 41.3125 42.328125 \r\nQ 44.921875 43.40625 46.75 45.890625 \r\nQ 48.578125 48.390625 48.578125 52.15625 \r\nQ 48.578125 55.71875 46.875 58.421875 \r\nQ 45.171875 61.140625 41.984375 62.140625 \r\nQ 38.8125 63.140625 31.109375 63.140625 \r\nL 16.796875 63.140625 \r\nz\r\nM 16.796875 8.453125 \r\nL 34.625 8.453125 \r\nQ 39.203125 8.453125 41.0625 8.796875 \r\nQ 44.34375 9.375 46.53125 10.734375 \r\nQ 48.734375 12.109375 50.140625 14.71875 \r\nQ 51.5625 17.328125 51.5625 20.75 \r\nQ 51.5625 24.75 49.515625 27.703125 \r\nQ 47.46875 30.671875 43.828125 31.859375 \r\nQ 40.1875 33.0625 33.34375 33.0625 \r\nL 16.796875 33.0625 \r\nz\r\n\" id=\"ArialMT-66\"/>\r\n      </defs>\r\n      <g style=\"fill:#262626;\" transform=\"translate(330.693516 256.602969)scale(0.11 -0.11)\">\r\n       <use xlink:href=\"#ArialMT-100\"/>\r\n       <use x=\"55.615234\" xlink:href=\"#ArialMT-114\"/>\r\n       <use x=\"88.916016\" xlink:href=\"#ArialMT-117\"/>\r\n       <use x=\"144.53125\" xlink:href=\"#ArialMT-103\"/>\r\n       <use x=\"200.146484\" xlink:href=\"#ArialMT-66\"/>\r\n      </g>\r\n     </g>\r\n    </g>\r\n    <g id=\"text_6\">\r\n     <!-- Drug -->\r\n     <defs>\r\n      <path d=\"M 7.71875 0 \r\nL 7.71875 71.578125 \r\nL 32.375 71.578125 \r\nQ 40.71875 71.578125 45.125 70.5625 \r\nQ 51.265625 69.140625 55.609375 65.4375 \r\nQ 61.28125 60.640625 64.078125 53.1875 \r\nQ 66.890625 45.75 66.890625 36.1875 \r\nQ 66.890625 28.03125 64.984375 21.734375 \r\nQ 63.09375 15.4375 60.109375 11.296875 \r\nQ 57.125 7.171875 53.578125 4.796875 \r\nQ 50.046875 2.4375 45.046875 1.21875 \r\nQ 40.046875 0 33.546875 0 \r\nz\r\nM 17.1875 8.453125 \r\nL 32.46875 8.453125 \r\nQ 39.546875 8.453125 43.578125 9.765625 \r\nQ 47.609375 11.078125 50 13.484375 \r\nQ 53.375 16.84375 55.25 22.53125 \r\nQ 57.125 28.21875 57.125 36.328125 \r\nQ 57.125 47.5625 53.4375 53.59375 \r\nQ 49.75 59.625 44.484375 61.671875 \r\nQ 40.671875 63.140625 32.234375 63.140625 \r\nL 17.1875 63.140625 \r\nz\r\n\" id=\"ArialMT-68\"/>\r\n     </defs>\r\n     <g style=\"fill:#262626;\" transform=\"translate(198.445 271.641563)scale(0.12 -0.12)\">\r\n      <use xlink:href=\"#ArialMT-68\"/>\r\n      <use x=\"72.216797\" xlink:href=\"#ArialMT-114\"/>\r\n      <use x=\"105.517578\" xlink:href=\"#ArialMT-117\"/>\r\n      <use x=\"161.132812\" xlink:href=\"#ArialMT-103\"/>\r\n     </g>\r\n    </g>\r\n   </g>\r\n   <g id=\"matplotlib.axis_2\">\r\n    <g id=\"ytick_1\">\r\n     <g id=\"line2d_1\">\r\n      <path clip-path=\"url(#pa2166f6a92)\" d=\"M 44.049063 239.229375 \r\nL 378.849063 239.229375 \r\n\" style=\"fill:none;stroke:#ffffff;stroke-linecap:round;\"/>\r\n     </g>\r\n     <g id=\"text_7\">\r\n      <!-- 0 -->\r\n      <defs>\r\n       <path d=\"M 4.15625 35.296875 \r\nQ 4.15625 48 6.765625 55.734375 \r\nQ 9.375 63.484375 14.515625 67.671875 \r\nQ 19.671875 71.875 27.484375 71.875 \r\nQ 33.25 71.875 37.59375 69.546875 \r\nQ 41.9375 67.234375 44.765625 62.859375 \r\nQ 47.609375 58.5 49.21875 52.21875 \r\nQ 50.828125 45.953125 50.828125 35.296875 \r\nQ 50.828125 22.703125 48.234375 14.96875 \r\nQ 45.65625 7.234375 40.5 3 \r\nQ 35.359375 -1.21875 27.484375 -1.21875 \r\nQ 17.140625 -1.21875 11.234375 6.203125 \r\nQ 4.15625 15.140625 4.15625 35.296875 \r\nz\r\nM 13.1875 35.296875 \r\nQ 13.1875 17.671875 17.3125 11.828125 \r\nQ 21.4375 6 27.484375 6 \r\nQ 33.546875 6 37.671875 11.859375 \r\nQ 41.796875 17.71875 41.796875 35.296875 \r\nQ 41.796875 52.984375 37.671875 58.78125 \r\nQ 33.546875 64.59375 27.390625 64.59375 \r\nQ 21.34375 64.59375 17.71875 59.46875 \r\nQ 13.1875 52.9375 13.1875 35.296875 \r\nz\r\n\" id=\"ArialMT-48\"/>\r\n      </defs>\r\n      <g style=\"fill:#262626;\" transform=\"translate(28.432031 243.166172)scale(0.11 -0.11)\">\r\n       <use xlink:href=\"#ArialMT-48\"/>\r\n      </g>\r\n     </g>\r\n    </g>\r\n    <g id=\"ytick_2\">\r\n     <g id=\"line2d_2\">\r\n      <path clip-path=\"url(#pa2166f6a92)\" d=\"M 44.049063 207.320944 \r\nL 378.849063 207.320944 \r\n\" style=\"fill:none;stroke:#ffffff;stroke-linecap:round;\"/>\r\n     </g>\r\n     <g id=\"text_8\">\r\n      <!-- 10 -->\r\n      <defs>\r\n       <path d=\"M 37.25 0 \r\nL 28.46875 0 \r\nL 28.46875 56 \r\nQ 25.296875 52.984375 20.140625 49.953125 \r\nQ 14.984375 46.921875 10.890625 45.40625 \r\nL 10.890625 53.90625 \r\nQ 18.265625 57.375 23.78125 62.296875 \r\nQ 29.296875 67.234375 31.59375 71.875 \r\nL 37.25 71.875 \r\nz\r\n\" id=\"ArialMT-49\"/>\r\n      </defs>\r\n      <g style=\"fill:#262626;\" transform=\"translate(22.315 211.257741)scale(0.11 -0.11)\">\r\n       <use xlink:href=\"#ArialMT-49\"/>\r\n       <use x=\"55.615234\" xlink:href=\"#ArialMT-48\"/>\r\n      </g>\r\n     </g>\r\n    </g>\r\n    <g id=\"ytick_3\">\r\n     <g id=\"line2d_3\">\r\n      <path clip-path=\"url(#pa2166f6a92)\" d=\"M 44.049063 175.412514 \r\nL 378.849063 175.412514 \r\n\" style=\"fill:none;stroke:#ffffff;stroke-linecap:round;\"/>\r\n     </g>\r\n     <g id=\"text_9\">\r\n      <!-- 20 -->\r\n      <defs>\r\n       <path d=\"M 50.34375 8.453125 \r\nL 50.34375 0 \r\nL 3.03125 0 \r\nQ 2.9375 3.171875 4.046875 6.109375 \r\nQ 5.859375 10.9375 9.828125 15.625 \r\nQ 13.8125 20.3125 21.34375 26.46875 \r\nQ 33.015625 36.03125 37.109375 41.625 \r\nQ 41.21875 47.21875 41.21875 52.203125 \r\nQ 41.21875 57.421875 37.46875 61 \r\nQ 33.734375 64.59375 27.734375 64.59375 \r\nQ 21.390625 64.59375 17.578125 60.78125 \r\nQ 13.765625 56.984375 13.71875 50.25 \r\nL 4.6875 51.171875 \r\nQ 5.609375 61.28125 11.65625 66.578125 \r\nQ 17.71875 71.875 27.9375 71.875 \r\nQ 38.234375 71.875 44.234375 66.15625 \r\nQ 50.25 60.453125 50.25 52 \r\nQ 50.25 47.703125 48.484375 43.546875 \r\nQ 46.734375 39.40625 42.65625 34.8125 \r\nQ 38.578125 30.21875 29.109375 22.21875 \r\nQ 21.1875 15.578125 18.9375 13.203125 \r\nQ 16.703125 10.84375 15.234375 8.453125 \r\nz\r\n\" id=\"ArialMT-50\"/>\r\n      </defs>\r\n      <g style=\"fill:#262626;\" transform=\"translate(22.315 179.349311)scale(0.11 -0.11)\">\r\n       <use xlink:href=\"#ArialMT-50\"/>\r\n       <use x=\"55.615234\" xlink:href=\"#ArialMT-48\"/>\r\n      </g>\r\n     </g>\r\n    </g>\r\n    <g id=\"ytick_4\">\r\n     <g id=\"line2d_4\">\r\n      <path clip-path=\"url(#pa2166f6a92)\" d=\"M 44.049063 143.504083 \r\nL 378.849063 143.504083 \r\n\" style=\"fill:none;stroke:#ffffff;stroke-linecap:round;\"/>\r\n     </g>\r\n     <g id=\"text_10\">\r\n      <!-- 30 -->\r\n      <defs>\r\n       <path d=\"M 4.203125 18.890625 \r\nL 12.984375 20.0625 \r\nQ 14.5 12.59375 18.140625 9.296875 \r\nQ 21.78125 6 27 6 \r\nQ 33.203125 6 37.46875 10.296875 \r\nQ 41.75 14.59375 41.75 20.953125 \r\nQ 41.75 27 37.796875 30.921875 \r\nQ 33.84375 34.859375 27.734375 34.859375 \r\nQ 25.25 34.859375 21.53125 33.890625 \r\nL 22.515625 41.609375 \r\nQ 23.390625 41.5 23.921875 41.5 \r\nQ 29.546875 41.5 34.03125 44.421875 \r\nQ 38.53125 47.359375 38.53125 53.46875 \r\nQ 38.53125 58.296875 35.25 61.46875 \r\nQ 31.984375 64.65625 26.8125 64.65625 \r\nQ 21.6875 64.65625 18.265625 61.421875 \r\nQ 14.84375 58.203125 13.875 51.765625 \r\nL 5.078125 53.328125 \r\nQ 6.6875 62.15625 12.390625 67.015625 \r\nQ 18.109375 71.875 26.609375 71.875 \r\nQ 32.46875 71.875 37.390625 69.359375 \r\nQ 42.328125 66.84375 44.9375 62.5 \r\nQ 47.5625 58.15625 47.5625 53.265625 \r\nQ 47.5625 48.640625 45.0625 44.828125 \r\nQ 42.578125 41.015625 37.703125 38.765625 \r\nQ 44.046875 37.3125 47.5625 32.6875 \r\nQ 51.078125 28.078125 51.078125 21.140625 \r\nQ 51.078125 11.765625 44.234375 5.25 \r\nQ 37.40625 -1.265625 26.953125 -1.265625 \r\nQ 17.53125 -1.265625 11.296875 4.34375 \r\nQ 5.078125 9.96875 4.203125 18.890625 \r\nz\r\n\" id=\"ArialMT-51\"/>\r\n      </defs>\r\n      <g style=\"fill:#262626;\" transform=\"translate(22.315 147.44088)scale(0.11 -0.11)\">\r\n       <use xlink:href=\"#ArialMT-51\"/>\r\n       <use x=\"55.615234\" xlink:href=\"#ArialMT-48\"/>\r\n      </g>\r\n     </g>\r\n    </g>\r\n    <g id=\"ytick_5\">\r\n     <g id=\"line2d_5\">\r\n      <path clip-path=\"url(#pa2166f6a92)\" d=\"M 44.049063 111.595653 \r\nL 378.849063 111.595653 \r\n\" style=\"fill:none;stroke:#ffffff;stroke-linecap:round;\"/>\r\n     </g>\r\n     <g id=\"text_11\">\r\n      <!-- 40 -->\r\n      <defs>\r\n       <path d=\"M 32.328125 0 \r\nL 32.328125 17.140625 \r\nL 1.265625 17.140625 \r\nL 1.265625 25.203125 \r\nL 33.9375 71.578125 \r\nL 41.109375 71.578125 \r\nL 41.109375 25.203125 \r\nL 50.78125 25.203125 \r\nL 50.78125 17.140625 \r\nL 41.109375 17.140625 \r\nL 41.109375 0 \r\nz\r\nM 32.328125 25.203125 \r\nL 32.328125 57.46875 \r\nL 9.90625 25.203125 \r\nz\r\n\" id=\"ArialMT-52\"/>\r\n      </defs>\r\n      <g style=\"fill:#262626;\" transform=\"translate(22.315 115.53245)scale(0.11 -0.11)\">\r\n       <use xlink:href=\"#ArialMT-52\"/>\r\n       <use x=\"55.615234\" xlink:href=\"#ArialMT-48\"/>\r\n      </g>\r\n     </g>\r\n    </g>\r\n    <g id=\"ytick_6\">\r\n     <g id=\"line2d_6\">\r\n      <path clip-path=\"url(#pa2166f6a92)\" d=\"M 44.049063 79.687222 \r\nL 378.849063 79.687222 \r\n\" style=\"fill:none;stroke:#ffffff;stroke-linecap:round;\"/>\r\n     </g>\r\n     <g id=\"text_12\">\r\n      <!-- 50 -->\r\n      <defs>\r\n       <path d=\"M 4.15625 18.75 \r\nL 13.375 19.53125 \r\nQ 14.40625 12.796875 18.140625 9.390625 \r\nQ 21.875 6 27.15625 6 \r\nQ 33.5 6 37.890625 10.78125 \r\nQ 42.28125 15.578125 42.28125 23.484375 \r\nQ 42.28125 31 38.0625 35.34375 \r\nQ 33.84375 39.703125 27 39.703125 \r\nQ 22.75 39.703125 19.328125 37.765625 \r\nQ 15.921875 35.84375 13.96875 32.765625 \r\nL 5.71875 33.84375 \r\nL 12.640625 70.609375 \r\nL 48.25 70.609375 \r\nL 48.25 62.203125 \r\nL 19.671875 62.203125 \r\nL 15.828125 42.96875 \r\nQ 22.265625 47.46875 29.34375 47.46875 \r\nQ 38.71875 47.46875 45.15625 40.96875 \r\nQ 51.609375 34.46875 51.609375 24.265625 \r\nQ 51.609375 14.546875 45.953125 7.46875 \r\nQ 39.0625 -1.21875 27.15625 -1.21875 \r\nQ 17.390625 -1.21875 11.203125 4.25 \r\nQ 5.03125 9.71875 4.15625 18.75 \r\nz\r\n\" id=\"ArialMT-53\"/>\r\n      </defs>\r\n      <g style=\"fill:#262626;\" transform=\"translate(22.315 83.624019)scale(0.11 -0.11)\">\r\n       <use xlink:href=\"#ArialMT-53\"/>\r\n       <use x=\"55.615234\" xlink:href=\"#ArialMT-48\"/>\r\n      </g>\r\n     </g>\r\n    </g>\r\n    <g id=\"ytick_7\">\r\n     <g id=\"line2d_7\">\r\n      <path clip-path=\"url(#pa2166f6a92)\" d=\"M 44.049063 47.778792 \r\nL 378.849063 47.778792 \r\n\" style=\"fill:none;stroke:#ffffff;stroke-linecap:round;\"/>\r\n     </g>\r\n     <g id=\"text_13\">\r\n      <!-- 60 -->\r\n      <defs>\r\n       <path d=\"M 49.75 54.046875 \r\nL 41.015625 53.375 \r\nQ 39.84375 58.546875 37.703125 60.890625 \r\nQ 34.125 64.65625 28.90625 64.65625 \r\nQ 24.703125 64.65625 21.53125 62.3125 \r\nQ 17.390625 59.28125 14.984375 53.46875 \r\nQ 12.59375 47.65625 12.5 36.921875 \r\nQ 15.671875 41.75 20.265625 44.09375 \r\nQ 24.859375 46.4375 29.890625 46.4375 \r\nQ 38.671875 46.4375 44.84375 39.96875 \r\nQ 51.03125 33.5 51.03125 23.25 \r\nQ 51.03125 16.5 48.125 10.71875 \r\nQ 45.21875 4.9375 40.140625 1.859375 \r\nQ 35.0625 -1.21875 28.609375 -1.21875 \r\nQ 17.625 -1.21875 10.6875 6.859375 \r\nQ 3.765625 14.9375 3.765625 33.5 \r\nQ 3.765625 54.25 11.421875 63.671875 \r\nQ 18.109375 71.875 29.4375 71.875 \r\nQ 37.890625 71.875 43.28125 67.140625 \r\nQ 48.6875 62.40625 49.75 54.046875 \r\nz\r\nM 13.875 23.1875 \r\nQ 13.875 18.65625 15.796875 14.5 \r\nQ 17.71875 10.359375 21.1875 8.171875 \r\nQ 24.65625 6 28.46875 6 \r\nQ 34.03125 6 38.03125 10.484375 \r\nQ 42.046875 14.984375 42.046875 22.703125 \r\nQ 42.046875 30.125 38.078125 34.390625 \r\nQ 34.125 38.671875 28.125 38.671875 \r\nQ 22.171875 38.671875 18.015625 34.390625 \r\nQ 13.875 30.125 13.875 23.1875 \r\nz\r\n\" id=\"ArialMT-54\"/>\r\n      </defs>\r\n      <g style=\"fill:#262626;\" transform=\"translate(22.315 51.715589)scale(0.11 -0.11)\">\r\n       <use xlink:href=\"#ArialMT-54\"/>\r\n       <use x=\"55.615234\" xlink:href=\"#ArialMT-48\"/>\r\n      </g>\r\n     </g>\r\n    </g>\r\n    <g id=\"text_14\">\r\n     <!-- Age -->\r\n     <defs>\r\n      <path d=\"M 42.09375 16.703125 \r\nL 51.171875 15.578125 \r\nQ 49.03125 7.625 43.21875 3.21875 \r\nQ 37.40625 -1.171875 28.375 -1.171875 \r\nQ 17 -1.171875 10.328125 5.828125 \r\nQ 3.65625 12.84375 3.65625 25.484375 \r\nQ 3.65625 38.578125 10.390625 45.796875 \r\nQ 17.140625 53.03125 27.875 53.03125 \r\nQ 38.28125 53.03125 44.875 45.953125 \r\nQ 51.46875 38.875 51.46875 26.03125 \r\nQ 51.46875 25.25 51.421875 23.6875 \r\nL 12.75 23.6875 \r\nQ 13.234375 15.140625 17.578125 10.59375 \r\nQ 21.921875 6.0625 28.421875 6.0625 \r\nQ 33.25 6.0625 36.671875 8.59375 \r\nQ 40.09375 11.140625 42.09375 16.703125 \r\nz\r\nM 13.234375 30.90625 \r\nL 42.1875 30.90625 \r\nQ 41.609375 37.453125 38.875 40.71875 \r\nQ 34.671875 45.796875 27.984375 45.796875 \r\nQ 21.921875 45.796875 17.796875 41.75 \r\nQ 13.671875 37.703125 13.234375 30.90625 \r\nz\r\n\" id=\"ArialMT-101\"/>\r\n     </defs>\r\n     <g style=\"fill:#262626;\" transform=\"translate(15.789375 141.184687)rotate(-90)scale(0.12 -0.12)\">\r\n      <use xlink:href=\"#ArialMT-65\"/>\r\n      <use x=\"66.699219\" xlink:href=\"#ArialMT-103\"/>\r\n      <use x=\"122.314453\" xlink:href=\"#ArialMT-101\"/>\r\n     </g>\r\n    </g>\r\n   </g>\r\n   <g id=\"patch_3\">\r\n    <path clip-path=\"url(#pa2166f6a92)\" d=\"M 50.745063 239.229375 \r\nL 77.529063 239.229375 \r\nL 77.529063 102.634136 \r\nL 50.745063 102.634136 \r\nz\r\n\" style=\"fill:#7891dd;stroke:#ffffff;stroke-linejoin:miter;\"/>\r\n   </g>\r\n   <g id=\"patch_4\">\r\n    <path clip-path=\"url(#pa2166f6a92)\" d=\"M 117.705063 239.229375 \r\nL 144.489063 239.229375 \r\nL 144.489063 104.758132 \r\nL 117.705063 104.758132 \r\nz\r\n\" style=\"fill:#7891dd;stroke:#ffffff;stroke-linejoin:miter;\"/>\r\n   </g>\r\n   <g id=\"patch_5\">\r\n    <path clip-path=\"url(#pa2166f6a92)\" d=\"M 184.665063 239.229375 \r\nL 211.449063 239.229375 \r\nL 211.449063 104.50489 \r\nL 184.665063 104.50489 \r\nz\r\n\" style=\"fill:#7891dd;stroke:#ffffff;stroke-linejoin:miter;\"/>\r\n   </g>\r\n   <g id=\"patch_6\">\r\n    <path clip-path=\"url(#pa2166f6a92)\" d=\"M 251.625063 239.229375 \r\nL 278.409063 239.229375 \r\nL 278.409063 137.122397 \r\nL 251.625063 137.122397 \r\nz\r\n\" style=\"fill:#7891dd;stroke:#ffffff;stroke-linejoin:miter;\"/>\r\n   </g>\r\n   <g id=\"patch_7\">\r\n    <path clip-path=\"url(#pa2166f6a92)\" d=\"M 318.585063 239.229375 \r\nL 345.369063 239.229375 \r\nL 345.369063 52.565056 \r\nL 318.585063 52.565056 \r\nz\r\n\" style=\"fill:#7891dd;stroke:#ffffff;stroke-linejoin:miter;\"/>\r\n   </g>\r\n   <g id=\"patch_8\">\r\n    <path clip-path=\"url(#pa2166f6a92)\" d=\"M 77.529063 239.229375 \r\nL 104.313063 239.229375 \r\nL 104.313063 96.439148 \r\nL 77.529063 96.439148 \r\nz\r\n\" style=\"fill:#a6bff2;stroke:#ffffff;stroke-linejoin:miter;\"/>\r\n   </g>\r\n   <g id=\"patch_9\">\r\n    <path clip-path=\"url(#pa2166f6a92)\" d=\"M 144.489062 239.229375 \r\nL 171.273062 239.229375 \r\nL 171.273062 102.7322 \r\nL 144.489062 102.7322 \r\nz\r\n\" style=\"fill:#a6bff2;stroke:#ffffff;stroke-linejoin:miter;\"/>\r\n   </g>\r\n   <g id=\"patch_10\">\r\n    <path clip-path=\"url(#pa2166f6a92)\" d=\"M 211.449063 239.229375 \r\nL 238.233063 239.229375 \r\nL 238.233063 93.041491 \r\nL 211.449063 93.041491 \r\nz\r\n\" style=\"fill:#a6bff2;stroke:#ffffff;stroke-linejoin:miter;\"/>\r\n   </g>\r\n   <g id=\"patch_11\">\r\n    <path clip-path=\"url(#pa2166f6a92)\" d=\"M 278.409063 239.229375 \r\nL 305.193062 239.229375 \r\nL 305.193062 116.837752 \r\nL 278.409063 116.837752 \r\nz\r\n\" style=\"fill:#a6bff2;stroke:#ffffff;stroke-linejoin:miter;\"/>\r\n   </g>\r\n   <g id=\"patch_12\">\r\n    <path clip-path=\"url(#pa2166f6a92)\" d=\"M 345.369063 239.229375 \r\nL 372.153063 239.229375 \r\nL 372.153063 32.143661 \r\nL 345.369063 32.143661 \r\nz\r\n\" style=\"fill:#a6bff2;stroke:#ffffff;stroke-linejoin:miter;\"/>\r\n   </g>\r\n   <g id=\"patch_13\">\r\n    <path d=\"M 44.049063 239.229375 \r\nL 44.049063 21.789375 \r\n\" style=\"fill:none;stroke:#ffffff;stroke-linecap:square;stroke-linejoin:miter;stroke-width:1.25;\"/>\r\n   </g>\r\n   <g id=\"patch_14\">\r\n    <path d=\"M 378.849063 239.229375 \r\nL 378.849063 21.789375 \r\n\" style=\"fill:none;stroke:#ffffff;stroke-linecap:square;stroke-linejoin:miter;stroke-width:1.25;\"/>\r\n   </g>\r\n   <g id=\"patch_15\">\r\n    <path d=\"M 44.049063 239.229375 \r\nL 378.849063 239.229375 \r\n\" style=\"fill:none;stroke:#ffffff;stroke-linecap:square;stroke-linejoin:miter;stroke-width:1.25;\"/>\r\n   </g>\r\n   <g id=\"patch_16\">\r\n    <path d=\"M 44.049063 21.789375 \r\nL 378.849063 21.789375 \r\n\" style=\"fill:none;stroke:#ffffff;stroke-linecap:square;stroke-linejoin:miter;stroke-width:1.25;\"/>\r\n   </g>\r\n   <g id=\"text_15\">\r\n    <!-- RELASI OBAT DAN UMUR PASIEN -->\r\n    <defs>\r\n     <path d=\"M 7.328125 0 \r\nL 7.328125 71.578125 \r\nL 37.75 71.578125 \r\nQ 49.21875 71.578125 54.421875 69.640625 \r\nQ 59.625 67.71875 62.75 62.78125 \r\nQ 65.875 57.859375 65.875 51.515625 \r\nQ 65.875 43.453125 61.125 38.203125 \r\nQ 56.390625 32.953125 46.96875 31.59375 \r\nQ 51.65625 28.859375 54.703125 25.578125 \r\nQ 57.765625 22.3125 62.9375 13.96875 \r\nL 71.6875 0 \r\nL 54.390625 0 \r\nL 43.953125 15.578125 \r\nQ 38.375 23.921875 36.328125 26.09375 \r\nQ 34.28125 28.265625 31.984375 29.078125 \r\nQ 29.6875 29.890625 24.703125 29.890625 \r\nL 21.78125 29.890625 \r\nL 21.78125 0 \r\nz\r\nM 21.78125 41.3125 \r\nL 32.46875 41.3125 \r\nQ 42.875 41.3125 45.453125 42.1875 \r\nQ 48.046875 43.0625 49.515625 45.203125 \r\nQ 50.984375 47.359375 50.984375 50.59375 \r\nQ 50.984375 54.203125 49.046875 56.421875 \r\nQ 47.125 58.640625 43.609375 59.234375 \r\nQ 41.84375 59.46875 33.0625 59.46875 \r\nL 21.78125 59.46875 \r\nz\r\n\" id=\"Arial-BoldMT-82\"/>\r\n     <path d=\"M 7.28125 0 \r\nL 7.28125 71.578125 \r\nL 60.359375 71.578125 \r\nL 60.359375 59.46875 \r\nL 21.734375 59.46875 \r\nL 21.734375 43.609375 \r\nL 57.671875 43.609375 \r\nL 57.671875 31.546875 \r\nL 21.734375 31.546875 \r\nL 21.734375 12.0625 \r\nL 61.71875 12.0625 \r\nL 61.71875 0 \r\nz\r\n\" id=\"Arial-BoldMT-69\"/>\r\n     <path d=\"M 7.671875 0 \r\nL 7.671875 71 \r\nL 22.125 71 \r\nL 22.125 12.0625 \r\nL 58.0625 12.0625 \r\nL 58.0625 0 \r\nz\r\n\" id=\"Arial-BoldMT-76\"/>\r\n     <path d=\"M 71.828125 0 \r\nL 56.109375 0 \r\nL 49.859375 16.265625 \r\nL 21.234375 16.265625 \r\nL 15.328125 0 \r\nL 0 0 \r\nL 27.875 71.578125 \r\nL 43.171875 71.578125 \r\nz\r\nM 45.21875 28.328125 \r\nL 35.359375 54.890625 \r\nL 25.6875 28.328125 \r\nz\r\n\" id=\"Arial-BoldMT-65\"/>\r\n     <path d=\"M 3.609375 23.296875 \r\nL 17.671875 24.65625 \r\nQ 18.953125 17.578125 22.828125 14.25 \r\nQ 26.703125 10.9375 33.296875 10.9375 \r\nQ 40.28125 10.9375 43.8125 13.890625 \r\nQ 47.359375 16.84375 47.359375 20.796875 \r\nQ 47.359375 23.34375 45.875 25.125 \r\nQ 44.390625 26.90625 40.671875 28.21875 \r\nQ 38.140625 29.109375 29.109375 31.34375 \r\nQ 17.484375 34.234375 12.796875 38.421875 \r\nQ 6.203125 44.34375 6.203125 52.828125 \r\nQ 6.203125 58.296875 9.296875 63.0625 \r\nQ 12.40625 67.828125 18.234375 70.3125 \r\nQ 24.078125 72.796875 32.328125 72.796875 \r\nQ 45.796875 72.796875 52.609375 66.890625 \r\nQ 59.421875 60.984375 59.765625 51.125 \r\nL 45.3125 50.484375 \r\nQ 44.390625 56 41.328125 58.421875 \r\nQ 38.28125 60.84375 32.171875 60.84375 \r\nQ 25.875 60.84375 22.3125 58.25 \r\nQ 20.015625 56.59375 20.015625 53.8125 \r\nQ 20.015625 51.265625 22.171875 49.46875 \r\nQ 24.90625 47.171875 35.453125 44.671875 \r\nQ 46 42.1875 51.046875 39.515625 \r\nQ 56.109375 36.859375 58.953125 32.25 \r\nQ 61.8125 27.640625 61.8125 20.84375 \r\nQ 61.8125 14.703125 58.390625 9.328125 \r\nQ 54.984375 3.953125 48.734375 1.34375 \r\nQ 42.484375 -1.265625 33.15625 -1.265625 \r\nQ 19.578125 -1.265625 12.296875 5 \r\nQ 5.03125 11.28125 3.609375 23.296875 \r\nz\r\n\" id=\"Arial-BoldMT-83\"/>\r\n     <path d=\"M 6.84375 0 \r\nL 6.84375 71.578125 \r\nL 21.296875 71.578125 \r\nL 21.296875 0 \r\nz\r\n\" id=\"Arial-BoldMT-73\"/>\r\n     <path id=\"Arial-BoldMT-32\"/>\r\n     <path d=\"M 4.34375 35.359375 \r\nQ 4.34375 46.296875 7.625 53.71875 \r\nQ 10.0625 59.1875 14.28125 63.53125 \r\nQ 18.5 67.875 23.53125 69.96875 \r\nQ 30.21875 72.796875 38.96875 72.796875 \r\nQ 54.78125 72.796875 64.28125 62.984375 \r\nQ 73.78125 53.171875 73.78125 35.6875 \r\nQ 73.78125 18.359375 64.359375 8.5625 \r\nQ 54.9375 -1.21875 39.15625 -1.21875 \r\nQ 23.1875 -1.21875 13.765625 8.515625 \r\nQ 4.34375 18.265625 4.34375 35.359375 \r\nz\r\nM 19.234375 35.84375 \r\nQ 19.234375 23.6875 24.84375 17.40625 \r\nQ 30.46875 11.140625 39.109375 11.140625 \r\nQ 47.75 11.140625 53.296875 17.359375 \r\nQ 58.84375 23.578125 58.84375 36.03125 \r\nQ 58.84375 48.34375 53.4375 54.390625 \r\nQ 48.046875 60.453125 39.109375 60.453125 \r\nQ 30.171875 60.453125 24.703125 54.3125 \r\nQ 19.234375 48.1875 19.234375 35.84375 \r\nz\r\n\" id=\"Arial-BoldMT-79\"/>\r\n     <path d=\"M 7.328125 71.578125 \r\nL 35.9375 71.578125 \r\nQ 44.4375 71.578125 48.609375 70.875 \r\nQ 52.78125 70.171875 56.078125 67.921875 \r\nQ 59.375 65.671875 61.5625 61.9375 \r\nQ 63.765625 58.203125 63.765625 53.5625 \r\nQ 63.765625 48.53125 61.046875 44.328125 \r\nQ 58.34375 40.140625 53.71875 38.03125 \r\nQ 60.25 36.140625 63.765625 31.546875 \r\nQ 67.28125 26.953125 67.28125 20.75 \r\nQ 67.28125 15.875 65.015625 11.25 \r\nQ 62.75 6.640625 58.8125 3.875 \r\nQ 54.890625 1.125 49.125 0.484375 \r\nQ 45.515625 0.09375 31.6875 0 \r\nL 7.328125 0 \r\nz\r\nM 21.78125 59.671875 \r\nL 21.78125 43.109375 \r\nL 31.25 43.109375 \r\nQ 39.703125 43.109375 41.75 43.359375 \r\nQ 45.453125 43.796875 47.578125 45.921875 \r\nQ 49.703125 48.046875 49.703125 51.515625 \r\nQ 49.703125 54.828125 47.875 56.90625 \r\nQ 46.046875 58.984375 42.4375 59.421875 \r\nQ 40.28125 59.671875 30.078125 59.671875 \r\nz\r\nM 21.78125 31.203125 \r\nL 21.78125 12.0625 \r\nL 35.15625 12.0625 \r\nQ 42.96875 12.0625 45.0625 12.5 \r\nQ 48.296875 13.09375 50.3125 15.359375 \r\nQ 52.34375 17.625 52.34375 21.4375 \r\nQ 52.34375 24.65625 50.78125 26.90625 \r\nQ 49.21875 29.15625 46.265625 30.171875 \r\nQ 43.3125 31.203125 33.453125 31.203125 \r\nz\r\n\" id=\"Arial-BoldMT-66\"/>\r\n     <path d=\"M 23.390625 0 \r\nL 23.390625 59.46875 \r\nL 2.15625 59.46875 \r\nL 2.15625 71.578125 \r\nL 59.03125 71.578125 \r\nL 59.03125 59.46875 \r\nL 37.84375 59.46875 \r\nL 37.84375 0 \r\nz\r\n\" id=\"Arial-BoldMT-84\"/>\r\n     <path d=\"M 7.234375 71.578125 \r\nL 33.640625 71.578125 \r\nQ 42.578125 71.578125 47.265625 70.21875 \r\nQ 53.5625 68.359375 58.046875 63.625 \r\nQ 62.546875 58.890625 64.890625 52.03125 \r\nQ 67.234375 45.171875 67.234375 35.109375 \r\nQ 67.234375 26.265625 65.046875 19.875 \r\nQ 62.359375 12.0625 57.375 7.234375 \r\nQ 53.609375 3.5625 47.21875 1.515625 \r\nQ 42.4375 0 34.421875 0 \r\nL 7.234375 0 \r\nz\r\nM 21.6875 59.46875 \r\nL 21.6875 12.0625 \r\nL 32.46875 12.0625 \r\nQ 38.53125 12.0625 41.21875 12.75 \r\nQ 44.734375 13.625 47.046875 15.71875 \r\nQ 49.359375 17.828125 50.828125 22.625 \r\nQ 52.296875 27.4375 52.296875 35.75 \r\nQ 52.296875 44.046875 50.828125 48.484375 \r\nQ 49.359375 52.9375 46.71875 55.421875 \r\nQ 44.09375 57.90625 40.046875 58.796875 \r\nQ 37.015625 59.46875 28.171875 59.46875 \r\nz\r\n\" id=\"Arial-BoldMT-68\"/>\r\n     <path d=\"M 7.421875 0 \r\nL 7.421875 71.578125 \r\nL 21.484375 71.578125 \r\nL 50.78125 23.78125 \r\nL 50.78125 71.578125 \r\nL 64.203125 71.578125 \r\nL 64.203125 0 \r\nL 49.703125 0 \r\nL 20.84375 46.6875 \r\nL 20.84375 0 \r\nz\r\n\" id=\"Arial-BoldMT-78\"/>\r\n     <path d=\"M 7.171875 71.578125 \r\nL 21.625 71.578125 \r\nL 21.625 32.8125 \r\nQ 21.625 23.578125 22.171875 20.84375 \r\nQ 23.09375 16.453125 26.578125 13.796875 \r\nQ 30.078125 11.140625 36.140625 11.140625 \r\nQ 42.28125 11.140625 45.40625 13.640625 \r\nQ 48.53125 16.15625 49.171875 19.8125 \r\nQ 49.8125 23.484375 49.8125 31.984375 \r\nL 49.8125 71.578125 \r\nL 64.265625 71.578125 \r\nL 64.265625 33.984375 \r\nQ 64.265625 21.09375 63.09375 15.765625 \r\nQ 61.921875 10.453125 58.765625 6.78125 \r\nQ 55.609375 3.125 50.328125 0.953125 \r\nQ 45.0625 -1.21875 36.578125 -1.21875 \r\nQ 26.3125 -1.21875 21.015625 1.140625 \r\nQ 15.71875 3.515625 12.640625 7.296875 \r\nQ 9.578125 11.078125 8.59375 15.234375 \r\nQ 7.171875 21.390625 7.171875 33.40625 \r\nz\r\n\" id=\"Arial-BoldMT-85\"/>\r\n     <path d=\"M 7.078125 0 \r\nL 7.078125 71.578125 \r\nL 28.71875 71.578125 \r\nL 41.703125 22.75 \r\nL 54.546875 71.578125 \r\nL 76.21875 71.578125 \r\nL 76.21875 0 \r\nL 62.796875 0 \r\nL 62.796875 56.34375 \r\nL 48.578125 0 \r\nL 34.671875 0 \r\nL 20.515625 56.34375 \r\nL 20.515625 0 \r\nz\r\n\" id=\"Arial-BoldMT-77\"/>\r\n     <path d=\"M 7.28125 0 \r\nL 7.28125 71.578125 \r\nL 30.46875 71.578125 \r\nQ 43.65625 71.578125 47.65625 70.515625 \r\nQ 53.8125 68.890625 57.953125 63.5 \r\nQ 62.109375 58.109375 62.109375 49.5625 \r\nQ 62.109375 42.96875 59.71875 38.46875 \r\nQ 57.328125 33.984375 53.640625 31.421875 \r\nQ 49.953125 28.859375 46.140625 28.03125 \r\nQ 40.96875 27 31.15625 27 \r\nL 21.734375 27 \r\nL 21.734375 0 \r\nz\r\nM 21.734375 59.46875 \r\nL 21.734375 39.15625 \r\nL 29.640625 39.15625 \r\nQ 38.1875 39.15625 41.0625 40.28125 \r\nQ 43.953125 41.40625 45.578125 43.796875 \r\nQ 47.21875 46.1875 47.21875 49.359375 \r\nQ 47.21875 53.265625 44.921875 55.796875 \r\nQ 42.625 58.34375 39.109375 58.984375 \r\nQ 36.53125 59.46875 28.71875 59.46875 \r\nz\r\n\" id=\"Arial-BoldMT-80\"/>\r\n    </defs>\r\n    <g style=\"fill:#262626;\" transform=\"translate(112.458438 15.789375)scale(0.12 -0.12)\">\r\n     <use xlink:href=\"#Arial-BoldMT-82\"/>\r\n     <use x=\"72.216797\" xlink:href=\"#Arial-BoldMT-69\"/>\r\n     <use x=\"138.916016\" xlink:href=\"#Arial-BoldMT-76\"/>\r\n     <use x=\"200\" xlink:href=\"#Arial-BoldMT-65\"/>\r\n     <use x=\"272.216797\" xlink:href=\"#Arial-BoldMT-83\"/>\r\n     <use x=\"338.916016\" xlink:href=\"#Arial-BoldMT-73\"/>\r\n     <use x=\"366.699219\" xlink:href=\"#Arial-BoldMT-32\"/>\r\n     <use x=\"394.482422\" xlink:href=\"#Arial-BoldMT-79\"/>\r\n     <use x=\"472.265625\" xlink:href=\"#Arial-BoldMT-66\"/>\r\n     <use x=\"544.482422\" xlink:href=\"#Arial-BoldMT-65\"/>\r\n     <use x=\"616.589844\" xlink:href=\"#Arial-BoldMT-84\"/>\r\n     <use x=\"677.673828\" xlink:href=\"#Arial-BoldMT-32\"/>\r\n     <use x=\"705.457031\" xlink:href=\"#Arial-BoldMT-68\"/>\r\n     <use x=\"777.673828\" xlink:href=\"#Arial-BoldMT-65\"/>\r\n     <use x=\"849.890625\" xlink:href=\"#Arial-BoldMT-78\"/>\r\n     <use x=\"922.107422\" xlink:href=\"#Arial-BoldMT-32\"/>\r\n     <use x=\"949.890625\" xlink:href=\"#Arial-BoldMT-85\"/>\r\n     <use x=\"1022.107422\" xlink:href=\"#Arial-BoldMT-77\"/>\r\n     <use x=\"1105.408203\" xlink:href=\"#Arial-BoldMT-85\"/>\r\n     <use x=\"1177.625\" xlink:href=\"#Arial-BoldMT-82\"/>\r\n     <use x=\"1249.841797\" xlink:href=\"#Arial-BoldMT-32\"/>\r\n     <use x=\"1277.625\" xlink:href=\"#Arial-BoldMT-80\"/>\r\n     <use x=\"1344.214844\" xlink:href=\"#Arial-BoldMT-65\"/>\r\n     <use x=\"1416.431641\" xlink:href=\"#Arial-BoldMT-83\"/>\r\n     <use x=\"1483.130859\" xlink:href=\"#Arial-BoldMT-73\"/>\r\n     <use x=\"1510.914062\" xlink:href=\"#Arial-BoldMT-69\"/>\r\n     <use x=\"1577.613281\" xlink:href=\"#Arial-BoldMT-78\"/>\r\n    </g>\r\n   </g>\r\n   <g id=\"legend_1\">\r\n    <g id=\"patch_17\">\r\n     <path d=\"M 51.749063 76.537281 \r\nL 96.111719 76.537281 \r\nQ 98.311719 76.537281 98.311719 74.337281 \r\nL 98.311719 29.489375 \r\nQ 98.311719 27.289375 96.111719 27.289375 \r\nL 51.749063 27.289375 \r\nQ 49.549063 27.289375 49.549063 29.489375 \r\nL 49.549063 74.337281 \r\nQ 49.549063 76.537281 51.749063 76.537281 \r\nz\r\n\" style=\"fill:#eaeaf2;opacity:0.8;stroke:#cccccc;stroke-linejoin:miter;\"/>\r\n    </g>\r\n    <g id=\"text_16\">\r\n     <!-- Sex -->\r\n     <defs>\r\n      <path d=\"M 4.5 23 \r\nL 13.421875 23.78125 \r\nQ 14.0625 18.40625 16.375 14.96875 \r\nQ 18.703125 11.53125 23.578125 9.40625 \r\nQ 28.46875 7.28125 34.578125 7.28125 \r\nQ 39.984375 7.28125 44.140625 8.890625 \r\nQ 48.296875 10.5 50.3125 13.296875 \r\nQ 52.34375 16.109375 52.34375 19.4375 \r\nQ 52.34375 22.796875 50.390625 25.3125 \r\nQ 48.4375 27.828125 43.953125 29.546875 \r\nQ 41.0625 30.671875 31.203125 33.03125 \r\nQ 21.34375 35.40625 17.390625 37.5 \r\nQ 12.25 40.1875 9.734375 44.15625 \r\nQ 7.234375 48.140625 7.234375 53.078125 \r\nQ 7.234375 58.5 10.296875 63.203125 \r\nQ 13.375 67.921875 19.28125 70.359375 \r\nQ 25.203125 72.796875 32.421875 72.796875 \r\nQ 40.375 72.796875 46.453125 70.234375 \r\nQ 52.546875 67.671875 55.8125 62.6875 \r\nQ 59.078125 57.71875 59.328125 51.421875 \r\nL 50.25 50.734375 \r\nQ 49.515625 57.515625 45.28125 60.984375 \r\nQ 41.0625 64.453125 32.8125 64.453125 \r\nQ 24.21875 64.453125 20.28125 61.296875 \r\nQ 16.359375 58.15625 16.359375 53.71875 \r\nQ 16.359375 49.859375 19.140625 47.359375 \r\nQ 21.875 44.875 33.421875 42.265625 \r\nQ 44.96875 39.65625 49.265625 37.703125 \r\nQ 55.515625 34.8125 58.484375 30.390625 \r\nQ 61.46875 25.984375 61.46875 20.21875 \r\nQ 61.46875 14.5 58.203125 9.4375 \r\nQ 54.9375 4.390625 48.796875 1.578125 \r\nQ 42.671875 -1.21875 35.015625 -1.21875 \r\nQ 25.296875 -1.21875 18.71875 1.609375 \r\nQ 12.15625 4.4375 8.421875 10.125 \r\nQ 4.6875 15.828125 4.5 23 \r\nz\r\n\" id=\"ArialMT-83\"/>\r\n      <path d=\"M 0.734375 0 \r\nL 19.671875 26.953125 \r\nL 2.15625 51.859375 \r\nL 13.140625 51.859375 \r\nL 21.09375 39.703125 \r\nQ 23.34375 36.234375 24.703125 33.890625 \r\nQ 26.859375 37.109375 28.65625 39.59375 \r\nL 37.40625 51.859375 \r\nL 47.90625 51.859375 \r\nL 29.984375 27.4375 \r\nL 49.265625 0 \r\nL 38.484375 0 \r\nL 27.828125 16.109375 \r\nL 25 20.453125 \r\nL 11.375 0 \r\nz\r\n\" id=\"ArialMT-120\"/>\r\n     </defs>\r\n     <g style=\"fill:#262626;\" transform=\"translate(65.142453 38.990344)scale(0.102 -0.102)\">\r\n      <use xlink:href=\"#ArialMT-83\"/>\r\n      <use x=\"66.699219\" xlink:href=\"#ArialMT-101\"/>\r\n      <use x=\"122.314453\" xlink:href=\"#ArialMT-120\"/>\r\n     </g>\r\n    </g>\r\n    <g id=\"patch_18\">\r\n     <path d=\"M 53.949063 54.391188 \r\nL 75.949062 54.391188 \r\nL 75.949062 46.691187 \r\nL 53.949063 46.691187 \r\nz\r\n\" style=\"fill:#7891dd;stroke:#ffffff;stroke-linejoin:miter;\"/>\r\n    </g>\r\n    <g id=\"text_17\">\r\n     <!-- F -->\r\n     <defs>\r\n      <path d=\"M 8.203125 0 \r\nL 8.203125 71.578125 \r\nL 56.5 71.578125 \r\nL 56.5 63.140625 \r\nL 17.671875 63.140625 \r\nL 17.671875 40.96875 \r\nL 51.265625 40.96875 \r\nL 51.265625 32.515625 \r\nL 17.671875 32.515625 \r\nL 17.671875 0 \r\nz\r\n\" id=\"ArialMT-70\"/>\r\n     </defs>\r\n     <g style=\"fill:#262626;\" transform=\"translate(84.749063 54.391188)scale(0.11 -0.11)\">\r\n      <use xlink:href=\"#ArialMT-70\"/>\r\n     </g>\r\n    </g>\r\n    <g id=\"patch_19\">\r\n     <path d=\"M 53.949063 69.951031 \r\nL 75.949062 69.951031 \r\nL 75.949062 62.251031 \r\nL 53.949063 62.251031 \r\nz\r\n\" style=\"fill:#a6bff2;stroke:#ffffff;stroke-linejoin:miter;\"/>\r\n    </g>\r\n    <g id=\"text_18\">\r\n     <!-- M -->\r\n     <defs>\r\n      <path d=\"M 7.421875 0 \r\nL 7.421875 71.578125 \r\nL 21.6875 71.578125 \r\nL 38.625 20.90625 \r\nQ 40.96875 13.8125 42.046875 10.296875 \r\nQ 43.265625 14.203125 45.84375 21.78125 \r\nL 62.984375 71.578125 \r\nL 75.734375 71.578125 \r\nL 75.734375 0 \r\nL 66.609375 0 \r\nL 66.609375 59.90625 \r\nL 45.796875 0 \r\nL 37.25 0 \r\nL 16.546875 60.9375 \r\nL 16.546875 0 \r\nz\r\n\" id=\"ArialMT-77\"/>\r\n     </defs>\r\n     <g style=\"fill:#262626;\" transform=\"translate(84.749063 69.951031)scale(0.11 -0.11)\">\r\n      <use xlink:href=\"#ArialMT-77\"/>\r\n     </g>\r\n    </g>\r\n   </g>\r\n  </g>\r\n </g>\r\n <defs>\r\n  <clipPath id=\"pa2166f6a92\">\r\n   <rect height=\"217.44\" width=\"334.8\" x=\"44.049063\" y=\"21.789375\"/>\r\n  </clipPath>\r\n </defs>\r\n</svg>\r\n",
      "image/png": "[encoded data removed]"
     },
     "metadata": {}
    }
   ],
   "source": [
    "#Cek relasi obat dan umur pasien\n",
    "sns.set()\n",
    "sns.set_palette('coolwarm')\n",
    "sns.barplot('Drug','Age',hue='Sex',ci=None,data=df)\n",
    "plt.title('RELASI OBAT DAN UMUR PASIEN',fontweight='bold')\n",
    "plt.show()"
   ]
  },
  {
   "cell_type": "code",
   "execution_count": 8,
   "metadata": {},
   "outputs": [
    {
     "output_type": "execute_result",
     "data": {
      "text/plain": "Text(0.5, 1.0, 'PERBANDINGAN PENGGUNAAN OBAT')"
     },
     "metadata": {},
     "execution_count": 8
    },
    {
     "output_type": "display_data",
     "data": {
      "text/plain": "<Figure size 432x288 with 1 Axes>",
      "image/svg+xml": "<?xml version=\"1.0\" encoding=\"utf-8\" standalone=\"no\"?>\r\n<!DOCTYPE svg PUBLIC \"-//W3C//DTD SVG 1.1//EN\"\r\n  \"http://www.w3.org/Graphics/SVG/1.1/DTD/svg11.dtd\">\r\n<!-- Created with matplotlib (https://matplotlib.org/) -->\r\n<svg height=\"281.367188pt\" version=\"1.1\" viewBox=\"0 0 385.908437 281.367188\" width=\"385.908437pt\" xmlns=\"http://www.w3.org/2000/svg\" xmlns:xlink=\"http://www.w3.org/1999/xlink\">\r\n <defs>\r\n  <style type=\"text/css\">\r\n*{stroke-linecap:butt;stroke-linejoin:round;}\r\n  </style>\r\n </defs>\r\n <g id=\"figure_1\">\r\n  <g id=\"patch_1\">\r\n   <path d=\"M 0 281.367188 \r\nL 385.908437 281.367188 \r\nL 385.908437 0 \r\nL 0 0 \r\nz\r\n\" style=\"fill:#ffffff;\"/>\r\n  </g>\r\n  <g id=\"axes_1\">\r\n   <g id=\"patch_2\">\r\n    <path d=\"M 43.908438 239.229375 \r\nL 378.708438 239.229375 \r\nL 378.708438 21.789375 \r\nL 43.908438 21.789375 \r\nz\r\n\" style=\"fill:#eaeaf2;\"/>\r\n   </g>\r\n   <g id=\"matplotlib.axis_1\">\r\n    <g id=\"xtick_1\">\r\n     <g id=\"text_1\">\r\n      <!-- drugY -->\r\n      <defs>\r\n       <path d=\"M 40.234375 0 \r\nL 40.234375 6.546875 \r\nQ 35.296875 -1.171875 25.734375 -1.171875 \r\nQ 19.53125 -1.171875 14.328125 2.25 \r\nQ 9.125 5.671875 6.265625 11.796875 \r\nQ 3.421875 17.921875 3.421875 25.875 \r\nQ 3.421875 33.640625 6 39.96875 \r\nQ 8.59375 46.296875 13.765625 49.65625 \r\nQ 18.953125 53.03125 25.34375 53.03125 \r\nQ 30.03125 53.03125 33.6875 51.046875 \r\nQ 37.359375 49.078125 39.65625 45.90625 \r\nL 39.65625 71.578125 \r\nL 48.390625 71.578125 \r\nL 48.390625 0 \r\nz\r\nM 12.453125 25.875 \r\nQ 12.453125 15.921875 16.640625 10.984375 \r\nQ 20.84375 6.0625 26.5625 6.0625 \r\nQ 32.328125 6.0625 36.34375 10.765625 \r\nQ 40.375 15.484375 40.375 25.140625 \r\nQ 40.375 35.796875 36.265625 40.765625 \r\nQ 32.171875 45.75 26.171875 45.75 \r\nQ 20.3125 45.75 16.375 40.96875 \r\nQ 12.453125 36.1875 12.453125 25.875 \r\nz\r\n\" id=\"ArialMT-100\"/>\r\n       <path d=\"M 6.5 0 \r\nL 6.5 51.859375 \r\nL 14.40625 51.859375 \r\nL 14.40625 44 \r\nQ 17.4375 49.515625 20 51.265625 \r\nQ 22.5625 53.03125 25.640625 53.03125 \r\nQ 30.078125 53.03125 34.671875 50.203125 \r\nL 31.640625 42.046875 \r\nQ 28.421875 43.953125 25.203125 43.953125 \r\nQ 22.3125 43.953125 20.015625 42.21875 \r\nQ 17.71875 40.484375 16.75 37.40625 \r\nQ 15.28125 32.71875 15.28125 27.15625 \r\nL 15.28125 0 \r\nz\r\n\" id=\"ArialMT-114\"/>\r\n       <path d=\"M 40.578125 0 \r\nL 40.578125 7.625 \r\nQ 34.515625 -1.171875 24.125 -1.171875 \r\nQ 19.53125 -1.171875 15.546875 0.578125 \r\nQ 11.578125 2.34375 9.640625 5 \r\nQ 7.71875 7.671875 6.9375 11.53125 \r\nQ 6.390625 14.109375 6.390625 19.734375 \r\nL 6.390625 51.859375 \r\nL 15.1875 51.859375 \r\nL 15.1875 23.09375 \r\nQ 15.1875 16.21875 15.71875 13.8125 \r\nQ 16.546875 10.359375 19.234375 8.375 \r\nQ 21.921875 6.390625 25.875 6.390625 \r\nQ 29.828125 6.390625 33.296875 8.421875 \r\nQ 36.765625 10.453125 38.203125 13.9375 \r\nQ 39.65625 17.4375 39.65625 24.078125 \r\nL 39.65625 51.859375 \r\nL 48.4375 51.859375 \r\nL 48.4375 0 \r\nz\r\n\" id=\"ArialMT-117\"/>\r\n       <path d=\"M 4.984375 -4.296875 \r\nL 13.53125 -5.5625 \r\nQ 14.0625 -9.515625 16.5 -11.328125 \r\nQ 19.78125 -13.765625 25.4375 -13.765625 \r\nQ 31.546875 -13.765625 34.859375 -11.328125 \r\nQ 38.1875 -8.890625 39.359375 -4.5 \r\nQ 40.046875 -1.8125 39.984375 6.78125 \r\nQ 34.234375 0 25.640625 0 \r\nQ 14.9375 0 9.078125 7.71875 \r\nQ 3.21875 15.4375 3.21875 26.21875 \r\nQ 3.21875 33.640625 5.90625 39.90625 \r\nQ 8.59375 46.1875 13.6875 49.609375 \r\nQ 18.796875 53.03125 25.6875 53.03125 \r\nQ 34.859375 53.03125 40.828125 45.609375 \r\nL 40.828125 51.859375 \r\nL 48.921875 51.859375 \r\nL 48.921875 7.03125 \r\nQ 48.921875 -5.078125 46.453125 -10.125 \r\nQ 44 -15.1875 38.640625 -18.109375 \r\nQ 33.296875 -21.046875 25.484375 -21.046875 \r\nQ 16.21875 -21.046875 10.5 -16.875 \r\nQ 4.78125 -12.703125 4.984375 -4.296875 \r\nz\r\nM 12.25 26.859375 \r\nQ 12.25 16.65625 16.296875 11.96875 \r\nQ 20.359375 7.28125 26.46875 7.28125 \r\nQ 32.515625 7.28125 36.609375 11.9375 \r\nQ 40.71875 16.609375 40.71875 26.5625 \r\nQ 40.71875 36.078125 36.5 40.90625 \r\nQ 32.28125 45.75 26.3125 45.75 \r\nQ 20.453125 45.75 16.34375 40.984375 \r\nQ 12.25 36.234375 12.25 26.859375 \r\nz\r\n\" id=\"ArialMT-103\"/>\r\n       <path d=\"M 27.875 0 \r\nL 27.875 30.328125 \r\nL 0.296875 71.578125 \r\nL 11.8125 71.578125 \r\nL 25.921875 50 \r\nQ 29.828125 43.953125 33.203125 37.890625 \r\nQ 36.421875 43.5 41.015625 50.53125 \r\nL 54.890625 71.578125 \r\nL 65.921875 71.578125 \r\nL 37.359375 30.328125 \r\nL 37.359375 0 \r\nz\r\n\" id=\"ArialMT-89\"/>\r\n      </defs>\r\n      <g style=\"fill:#262626;\" transform=\"translate(62.712891 256.602969)scale(0.11 -0.11)\">\r\n       <use xlink:href=\"#ArialMT-100\"/>\r\n       <use x=\"55.615234\" xlink:href=\"#ArialMT-114\"/>\r\n       <use x=\"88.916016\" xlink:href=\"#ArialMT-117\"/>\r\n       <use x=\"144.53125\" xlink:href=\"#ArialMT-103\"/>\r\n       <use x=\"200.146484\" xlink:href=\"#ArialMT-89\"/>\r\n      </g>\r\n     </g>\r\n    </g>\r\n    <g id=\"xtick_2\">\r\n     <g id=\"text_2\">\r\n      <!-- drugC -->\r\n      <defs>\r\n       <path d=\"M 58.796875 25.09375 \r\nL 68.265625 22.703125 \r\nQ 65.28125 11.03125 57.546875 4.90625 \r\nQ 49.8125 -1.21875 38.625 -1.21875 \r\nQ 27.046875 -1.21875 19.796875 3.484375 \r\nQ 12.546875 8.203125 8.765625 17.140625 \r\nQ 4.984375 26.078125 4.984375 36.328125 \r\nQ 4.984375 47.515625 9.25 55.828125 \r\nQ 13.53125 64.15625 21.40625 68.46875 \r\nQ 29.296875 72.796875 38.765625 72.796875 \r\nQ 49.515625 72.796875 56.828125 67.328125 \r\nQ 64.15625 61.859375 67.046875 51.953125 \r\nL 57.71875 49.75 \r\nQ 55.21875 57.5625 50.484375 61.125 \r\nQ 45.75 64.703125 38.578125 64.703125 \r\nQ 30.328125 64.703125 24.78125 60.734375 \r\nQ 19.234375 56.78125 16.984375 50.109375 \r\nQ 14.75 43.453125 14.75 36.375 \r\nQ 14.75 27.25 17.40625 20.4375 \r\nQ 20.0625 13.625 25.671875 10.25 \r\nQ 31.296875 6.890625 37.84375 6.890625 \r\nQ 45.796875 6.890625 51.3125 11.46875 \r\nQ 56.84375 16.0625 58.796875 25.09375 \r\nz\r\n\" id=\"ArialMT-67\"/>\r\n      </defs>\r\n      <g style=\"fill:#262626;\" transform=\"translate(129.369531 256.737031)scale(0.11 -0.11)\">\r\n       <use xlink:href=\"#ArialMT-100\"/>\r\n       <use x=\"55.615234\" xlink:href=\"#ArialMT-114\"/>\r\n       <use x=\"88.916016\" xlink:href=\"#ArialMT-117\"/>\r\n       <use x=\"144.53125\" xlink:href=\"#ArialMT-103\"/>\r\n       <use x=\"200.146484\" xlink:href=\"#ArialMT-67\"/>\r\n      </g>\r\n     </g>\r\n    </g>\r\n    <g id=\"xtick_3\">\r\n     <g id=\"text_3\">\r\n      <!-- drugX -->\r\n      <defs>\r\n       <path d=\"M 0.4375 0 \r\nL 28.125 37.3125 \r\nL 3.71875 71.578125 \r\nL 14.984375 71.578125 \r\nL 27.984375 53.21875 \r\nQ 32.03125 47.515625 33.734375 44.4375 \r\nQ 36.140625 48.34375 39.40625 52.59375 \r\nL 53.8125 71.578125 \r\nL 64.109375 71.578125 \r\nL 38.96875 37.84375 \r\nL 66.0625 0 \r\nL 54.34375 0 \r\nL 36.328125 25.53125 \r\nQ 34.8125 27.734375 33.203125 30.328125 \r\nQ 30.8125 26.421875 29.78125 24.953125 \r\nL 11.8125 0 \r\nz\r\n\" id=\"ArialMT-88\"/>\r\n      </defs>\r\n      <g style=\"fill:#262626;\" transform=\"translate(196.632891 256.602969)scale(0.11 -0.11)\">\r\n       <use xlink:href=\"#ArialMT-100\"/>\r\n       <use x=\"55.615234\" xlink:href=\"#ArialMT-114\"/>\r\n       <use x=\"88.916016\" xlink:href=\"#ArialMT-117\"/>\r\n       <use x=\"144.53125\" xlink:href=\"#ArialMT-103\"/>\r\n       <use x=\"200.146484\" xlink:href=\"#ArialMT-88\"/>\r\n      </g>\r\n     </g>\r\n    </g>\r\n    <g id=\"xtick_4\">\r\n     <g id=\"text_4\">\r\n      <!-- drugA -->\r\n      <defs>\r\n       <path d=\"M -0.140625 0 \r\nL 27.34375 71.578125 \r\nL 37.546875 71.578125 \r\nL 66.84375 0 \r\nL 56.0625 0 \r\nL 47.703125 21.6875 \r\nL 17.78125 21.6875 \r\nL 9.90625 0 \r\nz\r\nM 20.515625 29.390625 \r\nL 44.78125 29.390625 \r\nL 37.3125 49.21875 \r\nQ 33.890625 58.25 32.234375 64.0625 \r\nQ 30.859375 57.171875 28.375 50.390625 \r\nz\r\n\" id=\"ArialMT-65\"/>\r\n      </defs>\r\n      <g style=\"fill:#262626;\" transform=\"translate(263.592891 256.602969)scale(0.11 -0.11)\">\r\n       <use xlink:href=\"#ArialMT-100\"/>\r\n       <use x=\"55.615234\" xlink:href=\"#ArialMT-114\"/>\r\n       <use x=\"88.916016\" xlink:href=\"#ArialMT-117\"/>\r\n       <use x=\"144.53125\" xlink:href=\"#ArialMT-103\"/>\r\n       <use x=\"200.146484\" xlink:href=\"#ArialMT-65\"/>\r\n      </g>\r\n     </g>\r\n    </g>\r\n    <g id=\"xtick_5\">\r\n     <g id=\"text_5\">\r\n      <!-- drugB -->\r\n      <defs>\r\n       <path d=\"M 7.328125 0 \r\nL 7.328125 71.578125 \r\nL 34.1875 71.578125 \r\nQ 42.390625 71.578125 47.34375 69.40625 \r\nQ 52.296875 67.234375 55.09375 62.71875 \r\nQ 57.90625 58.203125 57.90625 53.265625 \r\nQ 57.90625 48.6875 55.421875 44.625 \r\nQ 52.9375 40.578125 47.90625 38.09375 \r\nQ 54.390625 36.1875 57.875 31.59375 \r\nQ 61.375 27 61.375 20.75 \r\nQ 61.375 15.71875 59.25 11.390625 \r\nQ 57.125 7.078125 54 4.734375 \r\nQ 50.875 2.390625 46.15625 1.1875 \r\nQ 41.453125 0 34.625 0 \r\nz\r\nM 16.796875 41.5 \r\nL 32.28125 41.5 \r\nQ 38.578125 41.5 41.3125 42.328125 \r\nQ 44.921875 43.40625 46.75 45.890625 \r\nQ 48.578125 48.390625 48.578125 52.15625 \r\nQ 48.578125 55.71875 46.875 58.421875 \r\nQ 45.171875 61.140625 41.984375 62.140625 \r\nQ 38.8125 63.140625 31.109375 63.140625 \r\nL 16.796875 63.140625 \r\nz\r\nM 16.796875 8.453125 \r\nL 34.625 8.453125 \r\nQ 39.203125 8.453125 41.0625 8.796875 \r\nQ 44.34375 9.375 46.53125 10.734375 \r\nQ 48.734375 12.109375 50.140625 14.71875 \r\nQ 51.5625 17.328125 51.5625 20.75 \r\nQ 51.5625 24.75 49.515625 27.703125 \r\nQ 47.46875 30.671875 43.828125 31.859375 \r\nQ 40.1875 33.0625 33.34375 33.0625 \r\nL 16.796875 33.0625 \r\nz\r\n\" id=\"ArialMT-66\"/>\r\n      </defs>\r\n      <g style=\"fill:#262626;\" transform=\"translate(330.552891 256.602969)scale(0.11 -0.11)\">\r\n       <use xlink:href=\"#ArialMT-100\"/>\r\n       <use x=\"55.615234\" xlink:href=\"#ArialMT-114\"/>\r\n       <use x=\"88.916016\" xlink:href=\"#ArialMT-117\"/>\r\n       <use x=\"144.53125\" xlink:href=\"#ArialMT-103\"/>\r\n       <use x=\"200.146484\" xlink:href=\"#ArialMT-66\"/>\r\n      </g>\r\n     </g>\r\n    </g>\r\n    <g id=\"text_6\">\r\n     <!-- Drug -->\r\n     <defs>\r\n      <path d=\"M 7.71875 0 \r\nL 7.71875 71.578125 \r\nL 32.375 71.578125 \r\nQ 40.71875 71.578125 45.125 70.5625 \r\nQ 51.265625 69.140625 55.609375 65.4375 \r\nQ 61.28125 60.640625 64.078125 53.1875 \r\nQ 66.890625 45.75 66.890625 36.1875 \r\nQ 66.890625 28.03125 64.984375 21.734375 \r\nQ 63.09375 15.4375 60.109375 11.296875 \r\nQ 57.125 7.171875 53.578125 4.796875 \r\nQ 50.046875 2.4375 45.046875 1.21875 \r\nQ 40.046875 0 33.546875 0 \r\nz\r\nM 17.1875 8.453125 \r\nL 32.46875 8.453125 \r\nQ 39.546875 8.453125 43.578125 9.765625 \r\nQ 47.609375 11.078125 50 13.484375 \r\nQ 53.375 16.84375 55.25 22.53125 \r\nQ 57.125 28.21875 57.125 36.328125 \r\nQ 57.125 47.5625 53.4375 53.59375 \r\nQ 49.75 59.625 44.484375 61.671875 \r\nQ 40.671875 63.140625 32.234375 63.140625 \r\nL 17.1875 63.140625 \r\nz\r\n\" id=\"ArialMT-68\"/>\r\n     </defs>\r\n     <g style=\"fill:#262626;\" transform=\"translate(198.304375 271.641563)scale(0.12 -0.12)\">\r\n      <use xlink:href=\"#ArialMT-68\"/>\r\n      <use x=\"72.216797\" xlink:href=\"#ArialMT-114\"/>\r\n      <use x=\"105.517578\" xlink:href=\"#ArialMT-117\"/>\r\n      <use x=\"161.132812\" xlink:href=\"#ArialMT-103\"/>\r\n     </g>\r\n    </g>\r\n   </g>\r\n   <g id=\"matplotlib.axis_2\">\r\n    <g id=\"ytick_1\">\r\n     <g id=\"line2d_1\">\r\n      <path clip-path=\"url(#p48dce9e70e)\" d=\"M 43.908438 239.229375 \r\nL 378.708438 239.229375 \r\n\" style=\"fill:none;stroke:#ffffff;stroke-linecap:round;\"/>\r\n     </g>\r\n     <g id=\"text_7\">\r\n      <!-- 0 -->\r\n      <defs>\r\n       <path d=\"M 4.15625 35.296875 \r\nQ 4.15625 48 6.765625 55.734375 \r\nQ 9.375 63.484375 14.515625 67.671875 \r\nQ 19.671875 71.875 27.484375 71.875 \r\nQ 33.25 71.875 37.59375 69.546875 \r\nQ 41.9375 67.234375 44.765625 62.859375 \r\nQ 47.609375 58.5 49.21875 52.21875 \r\nQ 50.828125 45.953125 50.828125 35.296875 \r\nQ 50.828125 22.703125 48.234375 14.96875 \r\nQ 45.65625 7.234375 40.5 3 \r\nQ 35.359375 -1.21875 27.484375 -1.21875 \r\nQ 17.140625 -1.21875 11.234375 6.203125 \r\nQ 4.15625 15.140625 4.15625 35.296875 \r\nz\r\nM 13.1875 35.296875 \r\nQ 13.1875 17.671875 17.3125 11.828125 \r\nQ 21.4375 6 27.484375 6 \r\nQ 33.546875 6 37.671875 11.859375 \r\nQ 41.796875 17.71875 41.796875 35.296875 \r\nQ 41.796875 52.984375 37.671875 58.78125 \r\nQ 33.546875 64.59375 27.390625 64.59375 \r\nQ 21.34375 64.59375 17.71875 59.46875 \r\nQ 13.1875 52.9375 13.1875 35.296875 \r\nz\r\n\" id=\"ArialMT-48\"/>\r\n      </defs>\r\n      <g style=\"fill:#262626;\" transform=\"translate(28.291406 243.166172)scale(0.11 -0.11)\">\r\n       <use xlink:href=\"#ArialMT-48\"/>\r\n      </g>\r\n     </g>\r\n    </g>\r\n    <g id=\"ytick_2\">\r\n     <g id=\"line2d_2\">\r\n      <path clip-path=\"url(#p48dce9e70e)\" d=\"M 43.908438 193.716031 \r\nL 378.708438 193.716031 \r\n\" style=\"fill:none;stroke:#ffffff;stroke-linecap:round;\"/>\r\n     </g>\r\n     <g id=\"text_8\">\r\n      <!-- 20 -->\r\n      <defs>\r\n       <path d=\"M 50.34375 8.453125 \r\nL 50.34375 0 \r\nL 3.03125 0 \r\nQ 2.9375 3.171875 4.046875 6.109375 \r\nQ 5.859375 10.9375 9.828125 15.625 \r\nQ 13.8125 20.3125 21.34375 26.46875 \r\nQ 33.015625 36.03125 37.109375 41.625 \r\nQ 41.21875 47.21875 41.21875 52.203125 \r\nQ 41.21875 57.421875 37.46875 61 \r\nQ 33.734375 64.59375 27.734375 64.59375 \r\nQ 21.390625 64.59375 17.578125 60.78125 \r\nQ 13.765625 56.984375 13.71875 50.25 \r\nL 4.6875 51.171875 \r\nQ 5.609375 61.28125 11.65625 66.578125 \r\nQ 17.71875 71.875 27.9375 71.875 \r\nQ 38.234375 71.875 44.234375 66.15625 \r\nQ 50.25 60.453125 50.25 52 \r\nQ 50.25 47.703125 48.484375 43.546875 \r\nQ 46.734375 39.40625 42.65625 34.8125 \r\nQ 38.578125 30.21875 29.109375 22.21875 \r\nQ 21.1875 15.578125 18.9375 13.203125 \r\nQ 16.703125 10.84375 15.234375 8.453125 \r\nz\r\n\" id=\"ArialMT-50\"/>\r\n      </defs>\r\n      <g style=\"fill:#262626;\" transform=\"translate(22.174375 197.652828)scale(0.11 -0.11)\">\r\n       <use xlink:href=\"#ArialMT-50\"/>\r\n       <use x=\"55.615234\" xlink:href=\"#ArialMT-48\"/>\r\n      </g>\r\n     </g>\r\n    </g>\r\n    <g id=\"ytick_3\">\r\n     <g id=\"line2d_3\">\r\n      <path clip-path=\"url(#p48dce9e70e)\" d=\"M 43.908438 148.202687 \r\nL 378.708438 148.202687 \r\n\" style=\"fill:none;stroke:#ffffff;stroke-linecap:round;\"/>\r\n     </g>\r\n     <g id=\"text_9\">\r\n      <!-- 40 -->\r\n      <defs>\r\n       <path d=\"M 32.328125 0 \r\nL 32.328125 17.140625 \r\nL 1.265625 17.140625 \r\nL 1.265625 25.203125 \r\nL 33.9375 71.578125 \r\nL 41.109375 71.578125 \r\nL 41.109375 25.203125 \r\nL 50.78125 25.203125 \r\nL 50.78125 17.140625 \r\nL 41.109375 17.140625 \r\nL 41.109375 0 \r\nz\r\nM 32.328125 25.203125 \r\nL 32.328125 57.46875 \r\nL 9.90625 25.203125 \r\nz\r\n\" id=\"ArialMT-52\"/>\r\n      </defs>\r\n      <g style=\"fill:#262626;\" transform=\"translate(22.174375 152.139484)scale(0.11 -0.11)\">\r\n       <use xlink:href=\"#ArialMT-52\"/>\r\n       <use x=\"55.615234\" xlink:href=\"#ArialMT-48\"/>\r\n      </g>\r\n     </g>\r\n    </g>\r\n    <g id=\"ytick_4\">\r\n     <g id=\"line2d_4\">\r\n      <path clip-path=\"url(#p48dce9e70e)\" d=\"M 43.908438 102.689344 \r\nL 378.708438 102.689344 \r\n\" style=\"fill:none;stroke:#ffffff;stroke-linecap:round;\"/>\r\n     </g>\r\n     <g id=\"text_10\">\r\n      <!-- 60 -->\r\n      <defs>\r\n       <path d=\"M 49.75 54.046875 \r\nL 41.015625 53.375 \r\nQ 39.84375 58.546875 37.703125 60.890625 \r\nQ 34.125 64.65625 28.90625 64.65625 \r\nQ 24.703125 64.65625 21.53125 62.3125 \r\nQ 17.390625 59.28125 14.984375 53.46875 \r\nQ 12.59375 47.65625 12.5 36.921875 \r\nQ 15.671875 41.75 20.265625 44.09375 \r\nQ 24.859375 46.4375 29.890625 46.4375 \r\nQ 38.671875 46.4375 44.84375 39.96875 \r\nQ 51.03125 33.5 51.03125 23.25 \r\nQ 51.03125 16.5 48.125 10.71875 \r\nQ 45.21875 4.9375 40.140625 1.859375 \r\nQ 35.0625 -1.21875 28.609375 -1.21875 \r\nQ 17.625 -1.21875 10.6875 6.859375 \r\nQ 3.765625 14.9375 3.765625 33.5 \r\nQ 3.765625 54.25 11.421875 63.671875 \r\nQ 18.109375 71.875 29.4375 71.875 \r\nQ 37.890625 71.875 43.28125 67.140625 \r\nQ 48.6875 62.40625 49.75 54.046875 \r\nz\r\nM 13.875 23.1875 \r\nQ 13.875 18.65625 15.796875 14.5 \r\nQ 17.71875 10.359375 21.1875 8.171875 \r\nQ 24.65625 6 28.46875 6 \r\nQ 34.03125 6 38.03125 10.484375 \r\nQ 42.046875 14.984375 42.046875 22.703125 \r\nQ 42.046875 30.125 38.078125 34.390625 \r\nQ 34.125 38.671875 28.125 38.671875 \r\nQ 22.171875 38.671875 18.015625 34.390625 \r\nQ 13.875 30.125 13.875 23.1875 \r\nz\r\n\" id=\"ArialMT-54\"/>\r\n      </defs>\r\n      <g style=\"fill:#262626;\" transform=\"translate(22.174375 106.62614)scale(0.11 -0.11)\">\r\n       <use xlink:href=\"#ArialMT-54\"/>\r\n       <use x=\"55.615234\" xlink:href=\"#ArialMT-48\"/>\r\n      </g>\r\n     </g>\r\n    </g>\r\n    <g id=\"ytick_5\">\r\n     <g id=\"line2d_5\">\r\n      <path clip-path=\"url(#p48dce9e70e)\" d=\"M 43.908438 57.176 \r\nL 378.708438 57.176 \r\n\" style=\"fill:none;stroke:#ffffff;stroke-linecap:round;\"/>\r\n     </g>\r\n     <g id=\"text_11\">\r\n      <!-- 80 -->\r\n      <defs>\r\n       <path d=\"M 17.671875 38.8125 \r\nQ 12.203125 40.828125 9.5625 44.53125 \r\nQ 6.9375 48.25 6.9375 53.421875 \r\nQ 6.9375 61.234375 12.546875 66.546875 \r\nQ 18.171875 71.875 27.484375 71.875 \r\nQ 36.859375 71.875 42.578125 66.421875 \r\nQ 48.296875 60.984375 48.296875 53.171875 \r\nQ 48.296875 48.1875 45.671875 44.5 \r\nQ 43.0625 40.828125 37.75 38.8125 \r\nQ 44.34375 36.671875 47.78125 31.875 \r\nQ 51.21875 27.09375 51.21875 20.453125 \r\nQ 51.21875 11.28125 44.71875 5.03125 \r\nQ 38.234375 -1.21875 27.640625 -1.21875 \r\nQ 17.046875 -1.21875 10.546875 5.046875 \r\nQ 4.046875 11.328125 4.046875 20.703125 \r\nQ 4.046875 27.6875 7.59375 32.390625 \r\nQ 11.140625 37.109375 17.671875 38.8125 \r\nz\r\nM 15.921875 53.71875 \r\nQ 15.921875 48.640625 19.1875 45.40625 \r\nQ 22.46875 42.1875 27.6875 42.1875 \r\nQ 32.765625 42.1875 36.015625 45.375 \r\nQ 39.265625 48.578125 39.265625 53.21875 \r\nQ 39.265625 58.0625 35.90625 61.359375 \r\nQ 32.5625 64.65625 27.59375 64.65625 \r\nQ 22.5625 64.65625 19.234375 61.421875 \r\nQ 15.921875 58.203125 15.921875 53.71875 \r\nz\r\nM 13.09375 20.65625 \r\nQ 13.09375 16.890625 14.875 13.375 \r\nQ 16.65625 9.859375 20.171875 7.921875 \r\nQ 23.6875 6 27.734375 6 \r\nQ 34.03125 6 38.125 10.046875 \r\nQ 42.234375 14.109375 42.234375 20.359375 \r\nQ 42.234375 26.703125 38.015625 30.859375 \r\nQ 33.796875 35.015625 27.4375 35.015625 \r\nQ 21.234375 35.015625 17.15625 30.90625 \r\nQ 13.09375 26.8125 13.09375 20.65625 \r\nz\r\n\" id=\"ArialMT-56\"/>\r\n      </defs>\r\n      <g style=\"fill:#262626;\" transform=\"translate(22.174375 61.112797)scale(0.11 -0.11)\">\r\n       <use xlink:href=\"#ArialMT-56\"/>\r\n       <use x=\"55.615234\" xlink:href=\"#ArialMT-48\"/>\r\n      </g>\r\n     </g>\r\n    </g>\r\n    <g id=\"text_12\">\r\n     <!-- count -->\r\n     <defs>\r\n      <path d=\"M 40.4375 19 \r\nL 49.078125 17.875 \r\nQ 47.65625 8.9375 41.8125 3.875 \r\nQ 35.984375 -1.171875 27.484375 -1.171875 \r\nQ 16.84375 -1.171875 10.375 5.78125 \r\nQ 3.90625 12.75 3.90625 25.734375 \r\nQ 3.90625 34.125 6.6875 40.421875 \r\nQ 9.46875 46.734375 15.15625 49.875 \r\nQ 20.84375 53.03125 27.546875 53.03125 \r\nQ 35.984375 53.03125 41.359375 48.75 \r\nQ 46.734375 44.484375 48.25 36.625 \r\nL 39.703125 35.296875 \r\nQ 38.484375 40.53125 35.375 43.15625 \r\nQ 32.28125 45.796875 27.875 45.796875 \r\nQ 21.234375 45.796875 17.078125 41.03125 \r\nQ 12.9375 36.28125 12.9375 25.984375 \r\nQ 12.9375 15.53125 16.9375 10.796875 \r\nQ 20.953125 6.0625 27.390625 6.0625 \r\nQ 32.5625 6.0625 36.03125 9.234375 \r\nQ 39.5 12.40625 40.4375 19 \r\nz\r\n\" id=\"ArialMT-99\"/>\r\n      <path d=\"M 3.328125 25.921875 \r\nQ 3.328125 40.328125 11.328125 47.265625 \r\nQ 18.015625 53.03125 27.640625 53.03125 \r\nQ 38.328125 53.03125 45.109375 46.015625 \r\nQ 51.90625 39.015625 51.90625 26.65625 \r\nQ 51.90625 16.65625 48.90625 10.90625 \r\nQ 45.90625 5.171875 40.15625 2 \r\nQ 34.421875 -1.171875 27.640625 -1.171875 \r\nQ 16.75 -1.171875 10.03125 5.8125 \r\nQ 3.328125 12.796875 3.328125 25.921875 \r\nz\r\nM 12.359375 25.921875 \r\nQ 12.359375 15.96875 16.703125 11.015625 \r\nQ 21.046875 6.0625 27.640625 6.0625 \r\nQ 34.1875 6.0625 38.53125 11.03125 \r\nQ 42.875 16.015625 42.875 26.21875 \r\nQ 42.875 35.84375 38.5 40.796875 \r\nQ 34.125 45.75 27.640625 45.75 \r\nQ 21.046875 45.75 16.703125 40.8125 \r\nQ 12.359375 35.890625 12.359375 25.921875 \r\nz\r\n\" id=\"ArialMT-111\"/>\r\n      <path d=\"M 6.59375 0 \r\nL 6.59375 51.859375 \r\nL 14.5 51.859375 \r\nL 14.5 44.484375 \r\nQ 20.21875 53.03125 31 53.03125 \r\nQ 35.6875 53.03125 39.625 51.34375 \r\nQ 43.5625 49.65625 45.515625 46.921875 \r\nQ 47.46875 44.1875 48.25 40.4375 \r\nQ 48.734375 37.984375 48.734375 31.890625 \r\nL 48.734375 0 \r\nL 39.9375 0 \r\nL 39.9375 31.546875 \r\nQ 39.9375 36.921875 38.90625 39.578125 \r\nQ 37.890625 42.234375 35.28125 43.8125 \r\nQ 32.671875 45.40625 29.15625 45.40625 \r\nQ 23.53125 45.40625 19.453125 41.84375 \r\nQ 15.375 38.28125 15.375 28.328125 \r\nL 15.375 0 \r\nz\r\n\" id=\"ArialMT-110\"/>\r\n      <path d=\"M 25.78125 7.859375 \r\nL 27.046875 0.09375 \r\nQ 23.34375 -0.6875 20.40625 -0.6875 \r\nQ 15.625 -0.6875 12.984375 0.828125 \r\nQ 10.359375 2.34375 9.28125 4.8125 \r\nQ 8.203125 7.28125 8.203125 15.1875 \r\nL 8.203125 45.015625 \r\nL 1.765625 45.015625 \r\nL 1.765625 51.859375 \r\nL 8.203125 51.859375 \r\nL 8.203125 64.703125 \r\nL 16.9375 69.96875 \r\nL 16.9375 51.859375 \r\nL 25.78125 51.859375 \r\nL 25.78125 45.015625 \r\nL 16.9375 45.015625 \r\nL 16.9375 14.703125 \r\nQ 16.9375 10.9375 17.40625 9.859375 \r\nQ 17.875 8.796875 18.921875 8.15625 \r\nQ 19.96875 7.515625 21.921875 7.515625 \r\nQ 23.390625 7.515625 25.78125 7.859375 \r\nz\r\n\" id=\"ArialMT-116\"/>\r\n     </defs>\r\n     <g style=\"fill:#262626;\" transform=\"translate(15.789375 145.185937)rotate(-90)scale(0.12 -0.12)\">\r\n      <use xlink:href=\"#ArialMT-99\"/>\r\n      <use x=\"50\" xlink:href=\"#ArialMT-111\"/>\r\n      <use x=\"105.615234\" xlink:href=\"#ArialMT-117\"/>\r\n      <use x=\"161.230469\" xlink:href=\"#ArialMT-110\"/>\r\n      <use x=\"216.845703\" xlink:href=\"#ArialMT-116\"/>\r\n     </g>\r\n    </g>\r\n   </g>\r\n   <g id=\"patch_3\">\r\n    <path clip-path=\"url(#p48dce9e70e)\" d=\"M 50.604438 239.229375 \r\nL 104.172438 239.229375 \r\nL 104.172438 32.143661 \r\nL 50.604438 32.143661 \r\nz\r\n\" style=\"fill:#7891dd;stroke:#ffffff;stroke-linejoin:miter;\"/>\r\n   </g>\r\n   <g id=\"patch_4\">\r\n    <path clip-path=\"url(#p48dce9e70e)\" d=\"M 117.564438 239.229375 \r\nL 171.132438 239.229375 \r\nL 171.132438 202.8187 \r\nL 117.564438 202.8187 \r\nz\r\n\" style=\"fill:#a6bff2;stroke:#ffffff;stroke-linejoin:miter;\"/>\r\n   </g>\r\n   <g id=\"patch_5\">\r\n    <path clip-path=\"url(#p48dce9e70e)\" d=\"M 184.524438 239.229375 \r\nL 238.092438 239.229375 \r\nL 238.092438 116.343347 \r\nL 184.524438 116.343347 \r\nz\r\n\" style=\"fill:#cdd9eb;stroke:#ffffff;stroke-linejoin:miter;\"/>\r\n   </g>\r\n   <g id=\"patch_6\">\r\n    <path clip-path=\"url(#p48dce9e70e)\" d=\"M 251.484438 239.229375 \r\nL 305.052438 239.229375 \r\nL 305.052438 186.88903 \r\nL 251.484438 186.88903 \r\nz\r\n\" style=\"fill:#e8d2c7;stroke:#ffffff;stroke-linejoin:miter;\"/>\r\n   </g>\r\n   <g id=\"patch_7\">\r\n    <path clip-path=\"url(#p48dce9e70e)\" d=\"M 318.444438 239.229375 \r\nL 372.012438 239.229375 \r\nL 372.012438 202.8187 \r\nL 318.444438 202.8187 \r\nz\r\n\" style=\"fill:#e9ae97;stroke:#ffffff;stroke-linejoin:miter;\"/>\r\n   </g>\r\n   <g id=\"patch_8\">\r\n    <path d=\"M 43.908438 239.229375 \r\nL 43.908438 21.789375 \r\n\" style=\"fill:none;stroke:#ffffff;stroke-linecap:square;stroke-linejoin:miter;stroke-width:1.25;\"/>\r\n   </g>\r\n   <g id=\"patch_9\">\r\n    <path d=\"M 378.708438 239.229375 \r\nL 378.708438 21.789375 \r\n\" style=\"fill:none;stroke:#ffffff;stroke-linecap:square;stroke-linejoin:miter;stroke-width:1.25;\"/>\r\n   </g>\r\n   <g id=\"patch_10\">\r\n    <path d=\"M 43.908438 239.229375 \r\nL 378.708438 239.229375 \r\n\" style=\"fill:none;stroke:#ffffff;stroke-linecap:square;stroke-linejoin:miter;stroke-width:1.25;\"/>\r\n   </g>\r\n   <g id=\"patch_11\">\r\n    <path d=\"M 43.908438 21.789375 \r\nL 378.708438 21.789375 \r\n\" style=\"fill:none;stroke:#ffffff;stroke-linecap:square;stroke-linejoin:miter;stroke-width:1.25;\"/>\r\n   </g>\r\n   <g id=\"text_13\">\r\n    <!-- PERBANDINGAN PENGGUNAAN OBAT -->\r\n    <defs>\r\n     <path d=\"M 7.28125 0 \r\nL 7.28125 71.578125 \r\nL 30.46875 71.578125 \r\nQ 43.65625 71.578125 47.65625 70.515625 \r\nQ 53.8125 68.890625 57.953125 63.5 \r\nQ 62.109375 58.109375 62.109375 49.5625 \r\nQ 62.109375 42.96875 59.71875 38.46875 \r\nQ 57.328125 33.984375 53.640625 31.421875 \r\nQ 49.953125 28.859375 46.140625 28.03125 \r\nQ 40.96875 27 31.15625 27 \r\nL 21.734375 27 \r\nL 21.734375 0 \r\nz\r\nM 21.734375 59.46875 \r\nL 21.734375 39.15625 \r\nL 29.640625 39.15625 \r\nQ 38.1875 39.15625 41.0625 40.28125 \r\nQ 43.953125 41.40625 45.578125 43.796875 \r\nQ 47.21875 46.1875 47.21875 49.359375 \r\nQ 47.21875 53.265625 44.921875 55.796875 \r\nQ 42.625 58.34375 39.109375 58.984375 \r\nQ 36.53125 59.46875 28.71875 59.46875 \r\nz\r\n\" id=\"Arial-BoldMT-80\"/>\r\n     <path d=\"M 7.28125 0 \r\nL 7.28125 71.578125 \r\nL 60.359375 71.578125 \r\nL 60.359375 59.46875 \r\nL 21.734375 59.46875 \r\nL 21.734375 43.609375 \r\nL 57.671875 43.609375 \r\nL 57.671875 31.546875 \r\nL 21.734375 31.546875 \r\nL 21.734375 12.0625 \r\nL 61.71875 12.0625 \r\nL 61.71875 0 \r\nz\r\n\" id=\"Arial-BoldMT-69\"/>\r\n     <path d=\"M 7.328125 0 \r\nL 7.328125 71.578125 \r\nL 37.75 71.578125 \r\nQ 49.21875 71.578125 54.421875 69.640625 \r\nQ 59.625 67.71875 62.75 62.78125 \r\nQ 65.875 57.859375 65.875 51.515625 \r\nQ 65.875 43.453125 61.125 38.203125 \r\nQ 56.390625 32.953125 46.96875 31.59375 \r\nQ 51.65625 28.859375 54.703125 25.578125 \r\nQ 57.765625 22.3125 62.9375 13.96875 \r\nL 71.6875 0 \r\nL 54.390625 0 \r\nL 43.953125 15.578125 \r\nQ 38.375 23.921875 36.328125 26.09375 \r\nQ 34.28125 28.265625 31.984375 29.078125 \r\nQ 29.6875 29.890625 24.703125 29.890625 \r\nL 21.78125 29.890625 \r\nL 21.78125 0 \r\nz\r\nM 21.78125 41.3125 \r\nL 32.46875 41.3125 \r\nQ 42.875 41.3125 45.453125 42.1875 \r\nQ 48.046875 43.0625 49.515625 45.203125 \r\nQ 50.984375 47.359375 50.984375 50.59375 \r\nQ 50.984375 54.203125 49.046875 56.421875 \r\nQ 47.125 58.640625 43.609375 59.234375 \r\nQ 41.84375 59.46875 33.0625 59.46875 \r\nL 21.78125 59.46875 \r\nz\r\n\" id=\"Arial-BoldMT-82\"/>\r\n     <path d=\"M 7.328125 71.578125 \r\nL 35.9375 71.578125 \r\nQ 44.4375 71.578125 48.609375 70.875 \r\nQ 52.78125 70.171875 56.078125 67.921875 \r\nQ 59.375 65.671875 61.5625 61.9375 \r\nQ 63.765625 58.203125 63.765625 53.5625 \r\nQ 63.765625 48.53125 61.046875 44.328125 \r\nQ 58.34375 40.140625 53.71875 38.03125 \r\nQ 60.25 36.140625 63.765625 31.546875 \r\nQ 67.28125 26.953125 67.28125 20.75 \r\nQ 67.28125 15.875 65.015625 11.25 \r\nQ 62.75 6.640625 58.8125 3.875 \r\nQ 54.890625 1.125 49.125 0.484375 \r\nQ 45.515625 0.09375 31.6875 0 \r\nL 7.328125 0 \r\nz\r\nM 21.78125 59.671875 \r\nL 21.78125 43.109375 \r\nL 31.25 43.109375 \r\nQ 39.703125 43.109375 41.75 43.359375 \r\nQ 45.453125 43.796875 47.578125 45.921875 \r\nQ 49.703125 48.046875 49.703125 51.515625 \r\nQ 49.703125 54.828125 47.875 56.90625 \r\nQ 46.046875 58.984375 42.4375 59.421875 \r\nQ 40.28125 59.671875 30.078125 59.671875 \r\nz\r\nM 21.78125 31.203125 \r\nL 21.78125 12.0625 \r\nL 35.15625 12.0625 \r\nQ 42.96875 12.0625 45.0625 12.5 \r\nQ 48.296875 13.09375 50.3125 15.359375 \r\nQ 52.34375 17.625 52.34375 21.4375 \r\nQ 52.34375 24.65625 50.78125 26.90625 \r\nQ 49.21875 29.15625 46.265625 30.171875 \r\nQ 43.3125 31.203125 33.453125 31.203125 \r\nz\r\n\" id=\"Arial-BoldMT-66\"/>\r\n     <path d=\"M 71.828125 0 \r\nL 56.109375 0 \r\nL 49.859375 16.265625 \r\nL 21.234375 16.265625 \r\nL 15.328125 0 \r\nL 0 0 \r\nL 27.875 71.578125 \r\nL 43.171875 71.578125 \r\nz\r\nM 45.21875 28.328125 \r\nL 35.359375 54.890625 \r\nL 25.6875 28.328125 \r\nz\r\n\" id=\"Arial-BoldMT-65\"/>\r\n     <path d=\"M 7.421875 0 \r\nL 7.421875 71.578125 \r\nL 21.484375 71.578125 \r\nL 50.78125 23.78125 \r\nL 50.78125 71.578125 \r\nL 64.203125 71.578125 \r\nL 64.203125 0 \r\nL 49.703125 0 \r\nL 20.84375 46.6875 \r\nL 20.84375 0 \r\nz\r\n\" id=\"Arial-BoldMT-78\"/>\r\n     <path d=\"M 7.234375 71.578125 \r\nL 33.640625 71.578125 \r\nQ 42.578125 71.578125 47.265625 70.21875 \r\nQ 53.5625 68.359375 58.046875 63.625 \r\nQ 62.546875 58.890625 64.890625 52.03125 \r\nQ 67.234375 45.171875 67.234375 35.109375 \r\nQ 67.234375 26.265625 65.046875 19.875 \r\nQ 62.359375 12.0625 57.375 7.234375 \r\nQ 53.609375 3.5625 47.21875 1.515625 \r\nQ 42.4375 0 34.421875 0 \r\nL 7.234375 0 \r\nz\r\nM 21.6875 59.46875 \r\nL 21.6875 12.0625 \r\nL 32.46875 12.0625 \r\nQ 38.53125 12.0625 41.21875 12.75 \r\nQ 44.734375 13.625 47.046875 15.71875 \r\nQ 49.359375 17.828125 50.828125 22.625 \r\nQ 52.296875 27.4375 52.296875 35.75 \r\nQ 52.296875 44.046875 50.828125 48.484375 \r\nQ 49.359375 52.9375 46.71875 55.421875 \r\nQ 44.09375 57.90625 40.046875 58.796875 \r\nQ 37.015625 59.46875 28.171875 59.46875 \r\nz\r\n\" id=\"Arial-BoldMT-68\"/>\r\n     <path d=\"M 6.84375 0 \r\nL 6.84375 71.578125 \r\nL 21.296875 71.578125 \r\nL 21.296875 0 \r\nz\r\n\" id=\"Arial-BoldMT-73\"/>\r\n     <path d=\"M 40.578125 26.3125 \r\nL 40.578125 38.375 \r\nL 71.734375 38.375 \r\nL 71.734375 9.859375 \r\nQ 67.1875 5.46875 58.5625 2.125 \r\nQ 49.953125 -1.21875 41.109375 -1.21875 \r\nQ 29.890625 -1.21875 21.53125 3.484375 \r\nQ 13.1875 8.203125 8.984375 16.96875 \r\nQ 4.78125 25.734375 4.78125 36.03125 \r\nQ 4.78125 47.21875 9.46875 55.90625 \r\nQ 14.15625 64.59375 23.1875 69.234375 \r\nQ 30.078125 72.796875 40.328125 72.796875 \r\nQ 53.65625 72.796875 61.15625 67.203125 \r\nQ 68.65625 61.625 70.796875 51.765625 \r\nL 56.453125 49.078125 \r\nQ 54.9375 54.34375 50.75 57.390625 \r\nQ 46.578125 60.453125 40.328125 60.453125 \r\nQ 30.859375 60.453125 25.265625 54.4375 \r\nQ 19.671875 48.4375 19.671875 36.625 \r\nQ 19.671875 23.875 25.328125 17.5 \r\nQ 31 11.140625 40.1875 11.140625 \r\nQ 44.734375 11.140625 49.296875 12.921875 \r\nQ 53.859375 14.703125 57.125 17.234375 \r\nL 57.125 26.3125 \r\nz\r\n\" id=\"Arial-BoldMT-71\"/>\r\n     <path id=\"Arial-BoldMT-32\"/>\r\n     <path d=\"M 7.171875 71.578125 \r\nL 21.625 71.578125 \r\nL 21.625 32.8125 \r\nQ 21.625 23.578125 22.171875 20.84375 \r\nQ 23.09375 16.453125 26.578125 13.796875 \r\nQ 30.078125 11.140625 36.140625 11.140625 \r\nQ 42.28125 11.140625 45.40625 13.640625 \r\nQ 48.53125 16.15625 49.171875 19.8125 \r\nQ 49.8125 23.484375 49.8125 31.984375 \r\nL 49.8125 71.578125 \r\nL 64.265625 71.578125 \r\nL 64.265625 33.984375 \r\nQ 64.265625 21.09375 63.09375 15.765625 \r\nQ 61.921875 10.453125 58.765625 6.78125 \r\nQ 55.609375 3.125 50.328125 0.953125 \r\nQ 45.0625 -1.21875 36.578125 -1.21875 \r\nQ 26.3125 -1.21875 21.015625 1.140625 \r\nQ 15.71875 3.515625 12.640625 7.296875 \r\nQ 9.578125 11.078125 8.59375 15.234375 \r\nQ 7.171875 21.390625 7.171875 33.40625 \r\nz\r\n\" id=\"Arial-BoldMT-85\"/>\r\n     <path d=\"M 4.34375 35.359375 \r\nQ 4.34375 46.296875 7.625 53.71875 \r\nQ 10.0625 59.1875 14.28125 63.53125 \r\nQ 18.5 67.875 23.53125 69.96875 \r\nQ 30.21875 72.796875 38.96875 72.796875 \r\nQ 54.78125 72.796875 64.28125 62.984375 \r\nQ 73.78125 53.171875 73.78125 35.6875 \r\nQ 73.78125 18.359375 64.359375 8.5625 \r\nQ 54.9375 -1.21875 39.15625 -1.21875 \r\nQ 23.1875 -1.21875 13.765625 8.515625 \r\nQ 4.34375 18.265625 4.34375 35.359375 \r\nz\r\nM 19.234375 35.84375 \r\nQ 19.234375 23.6875 24.84375 17.40625 \r\nQ 30.46875 11.140625 39.109375 11.140625 \r\nQ 47.75 11.140625 53.296875 17.359375 \r\nQ 58.84375 23.578125 58.84375 36.03125 \r\nQ 58.84375 48.34375 53.4375 54.390625 \r\nQ 48.046875 60.453125 39.109375 60.453125 \r\nQ 30.171875 60.453125 24.703125 54.3125 \r\nQ 19.234375 48.1875 19.234375 35.84375 \r\nz\r\n\" id=\"Arial-BoldMT-79\"/>\r\n     <path d=\"M 23.390625 0 \r\nL 23.390625 59.46875 \r\nL 2.15625 59.46875 \r\nL 2.15625 71.578125 \r\nL 59.03125 71.578125 \r\nL 59.03125 59.46875 \r\nL 37.84375 59.46875 \r\nL 37.84375 0 \r\nz\r\n\" id=\"Arial-BoldMT-84\"/>\r\n    </defs>\r\n    <g style=\"fill:#262626;\" transform=\"translate(98.643438 15.789375)scale(0.12 -0.12)\">\r\n     <use xlink:href=\"#Arial-BoldMT-80\"/>\r\n     <use x=\"66.699219\" xlink:href=\"#Arial-BoldMT-69\"/>\r\n     <use x=\"133.398438\" xlink:href=\"#Arial-BoldMT-82\"/>\r\n     <use x=\"205.615234\" xlink:href=\"#Arial-BoldMT-66\"/>\r\n     <use x=\"277.832031\" xlink:href=\"#Arial-BoldMT-65\"/>\r\n     <use x=\"350.048828\" xlink:href=\"#Arial-BoldMT-78\"/>\r\n     <use x=\"422.265625\" xlink:href=\"#Arial-BoldMT-68\"/>\r\n     <use x=\"494.482422\" xlink:href=\"#Arial-BoldMT-73\"/>\r\n     <use x=\"522.265625\" xlink:href=\"#Arial-BoldMT-78\"/>\r\n     <use x=\"594.482422\" xlink:href=\"#Arial-BoldMT-71\"/>\r\n     <use x=\"672.265625\" xlink:href=\"#Arial-BoldMT-65\"/>\r\n     <use x=\"744.482422\" xlink:href=\"#Arial-BoldMT-78\"/>\r\n     <use x=\"816.699219\" xlink:href=\"#Arial-BoldMT-32\"/>\r\n     <use x=\"844.482422\" xlink:href=\"#Arial-BoldMT-80\"/>\r\n     <use x=\"911.181641\" xlink:href=\"#Arial-BoldMT-69\"/>\r\n     <use x=\"977.880859\" xlink:href=\"#Arial-BoldMT-78\"/>\r\n     <use x=\"1050.097656\" xlink:href=\"#Arial-BoldMT-71\"/>\r\n     <use x=\"1127.880859\" xlink:href=\"#Arial-BoldMT-71\"/>\r\n     <use x=\"1205.664062\" xlink:href=\"#Arial-BoldMT-85\"/>\r\n     <use x=\"1277.880859\" xlink:href=\"#Arial-BoldMT-78\"/>\r\n     <use x=\"1350.097656\" xlink:href=\"#Arial-BoldMT-65\"/>\r\n     <use x=\"1422.314453\" xlink:href=\"#Arial-BoldMT-65\"/>\r\n     <use x=\"1494.53125\" xlink:href=\"#Arial-BoldMT-78\"/>\r\n     <use x=\"1566.748047\" xlink:href=\"#Arial-BoldMT-32\"/>\r\n     <use x=\"1594.53125\" xlink:href=\"#Arial-BoldMT-79\"/>\r\n     <use x=\"1672.314453\" xlink:href=\"#Arial-BoldMT-66\"/>\r\n     <use x=\"1744.53125\" xlink:href=\"#Arial-BoldMT-65\"/>\r\n     <use x=\"1816.638672\" xlink:href=\"#Arial-BoldMT-84\"/>\r\n    </g>\r\n   </g>\r\n  </g>\r\n </g>\r\n <defs>\r\n  <clipPath id=\"p48dce9e70e\">\r\n   <rect height=\"217.44\" width=\"334.8\" x=\"43.908438\" y=\"21.789375\"/>\r\n  </clipPath>\r\n </defs>\r\n</svg>\r\n",
      "image/png": "[encoded data removed]"
     },
     "metadata": {}
    }
   ],
   "source": [
    "#Cek perbandingan penggunaan obat\n",
    "sns.countplot('Drug',data=df)\n",
    "plt.title('PERBANDINGAN PENGGUNAAN OBAT',fontweight='bold')"
   ]
  },
  {
   "cell_type": "markdown",
   "metadata": {},
   "source": [
    "Orang yang berumur lebih dari 50 tahun cenderung menggunakan drug B, sedangkan untuk jumlah penggunaan obat drug Y merupakan obat yang paling sering digunakan"
   ]
  },
  {
   "cell_type": "markdown",
   "metadata": {},
   "source": [
    "## 4. Data Preparation\n",
    "Saat ini kita akan melakukan cleaning data agar data ini dapat dimasukan kedalam model machine learning, kita akan mengganti column 'Sex' 'BP' 'Cholesterol' yang bermupakan columns category menjadi angka agar dapat dimasukan kedalam model machine learning\n",
    "\n",
    "karena column Sex merupakan binominal (ya / tidak) dan column BP, Cholesterol merupakan skala ordinal dalam statistika (https://id.wikipedia.org/wiki/Skala_(statistik)) dan bukan skala nominal, kita bisa menyimpulkan bahwa data yang metode penggantian kategori menjadi angka yang kita gunakan adalah LabelEncoder  (skala nominal menggunakan OneHot Encoder)\n",
    "\n",
    "\n",
    "![title](img/ordinal.png)\n",
    "![title](img/nominal.png)\n",
    "\n",
    "\n",
    "dikarenakan jumlah nilai yang sedikit, kita akan melakukan LabelEncoder secara manual, namun apabila nilai yang terdapat dalam column ada banyak, kalian bisa menggunakan module LabelEncoder dari sklearn"
   ]
  },
  {
   "cell_type": "code",
   "execution_count": 9,
   "metadata": {},
   "outputs": [
    {
     "output_type": "stream",
     "name": "stdout",
     "text": "M    104\nF     96\nName: Sex, dtype: int64\n\n\nHIGH      77\nLOW       64\nNORMAL    59\nName: BP, dtype: int64\n\n\nHIGH      103\nNORMAL     97\nName: Cholesterol, dtype: int64\n\n\ndrugY    91\ndrugX    54\ndrugA    23\ndrugB    16\ndrugC    16\nName: Drug, dtype: int64\n\n\n"
    }
   ],
   "source": [
    "#Outputkan nilai dari setiap column category\n",
    "for col in df.select_dtypes(include=['object']):\n",
    "    print(f'{df[col].value_counts()}\\n\\n')"
   ]
  },
  {
   "cell_type": "code",
   "execution_count": 10,
   "metadata": {},
   "outputs": [],
   "source": [
    "#Mapping nilai yang akan di ganti menggunakan Dictionary pada python\n",
    "Sex         = {'M':1, 'F':0}\n",
    "BP          = {'HIGH':2, 'NORMAL':1, 'LOW': 0}\n",
    "Cholesterol = {'HIGH':1, 'NORMAL':0}"
   ]
  },
  {
   "cell_type": "code",
   "execution_count": 11,
   "metadata": {},
   "outputs": [],
   "source": [
    "#Menukar nilai column\n",
    "df['Sex']           = df['Sex'].replace(Sex)\n",
    "df['BP']            = df['BP'].replace(BP)\n",
    "df['Cholesterol']   = df['Cholesterol'].replace(Cholesterol)"
   ]
  },
  {
   "cell_type": "code",
   "execution_count": 12,
   "metadata": {},
   "outputs": [
    {
     "output_type": "execute_result",
     "data": {
      "text/plain": "   Age  Sex  BP  Cholesterol  Na_to_K   Drug\n0   23    0   2            1   25.355  drugY\n1   47    1   0            1   13.093  drugC\n2   47    1   0            1   10.114  drugC\n3   28    0   1            1    7.798  drugX\n4   61    0   0            1   18.043  drugY",
      "text/html": "<div>\n<style scoped>\n    .dataframe tbody tr th:only-of-type {\n        vertical-align: middle;\n    }\n\n    .dataframe tbody tr th {\n        vertical-align: top;\n    }\n\n    .dataframe thead th {\n        text-align: right;\n    }\n</style>\n<table border=\"1\" class=\"dataframe\">\n  <thead>\n    <tr style=\"text-align: right;\">\n      <th></th>\n      <th>Age</th>\n      <th>Sex</th>\n      <th>BP</th>\n      <th>Cholesterol</th>\n      <th>Na_to_K</th>\n      <th>Drug</th>\n    </tr>\n  </thead>\n  <tbody>\n    <tr>\n      <th>0</th>\n      <td>23</td>\n      <td>0</td>\n      <td>2</td>\n      <td>1</td>\n      <td>25.355</td>\n      <td>drugY</td>\n    </tr>\n    <tr>\n      <th>1</th>\n      <td>47</td>\n      <td>1</td>\n      <td>0</td>\n      <td>1</td>\n      <td>13.093</td>\n      <td>drugC</td>\n    </tr>\n    <tr>\n      <th>2</th>\n      <td>47</td>\n      <td>1</td>\n      <td>0</td>\n      <td>1</td>\n      <td>10.114</td>\n      <td>drugC</td>\n    </tr>\n    <tr>\n      <th>3</th>\n      <td>28</td>\n      <td>0</td>\n      <td>1</td>\n      <td>1</td>\n      <td>7.798</td>\n      <td>drugX</td>\n    </tr>\n    <tr>\n      <th>4</th>\n      <td>61</td>\n      <td>0</td>\n      <td>0</td>\n      <td>1</td>\n      <td>18.043</td>\n      <td>drugY</td>\n    </tr>\n  </tbody>\n</table>\n</div>"
     },
     "metadata": {},
     "execution_count": 12
    }
   ],
   "source": [
    "#Output 5 baris teratas untuk cek apakah nilai sudah berganti atau belum\n",
    "df.head()"
   ]
  },
  {
   "cell_type": "markdown",
   "metadata": {},
   "source": [
    "Langkah selanjutnya kita akan memecah data menjadi 2 kategori yaitu feature X dan target variable y\n",
    "\n",
    "dilanjutkan dengan memecah data tadi menjadi 25% untuk test, dan 75% data untuk training, kita akan menggunakan module dari sklearn untuk memudahkan pekerjaan kita"
   ]
  },
  {
   "cell_type": "code",
   "execution_count": 13,
   "metadata": {},
   "outputs": [],
   "source": [
    "#Pecah data menjadi feature X dan target variable y\n",
    "y   = df['Drug']\n",
    "X   = df.drop('Drug',axis=1)"
   ]
  },
  {
   "cell_type": "code",
   "execution_count": 14,
   "metadata": {},
   "outputs": [],
   "source": [
    "#Pecah menjadi 75% train set dan 25% test set\n",
    "X_train, X_test, y_train, y_test = train_test_split(X,y, test_size=0.25, stratify=y)"
   ]
  },
  {
   "cell_type": "markdown",
   "metadata": {},
   "source": [
    "## 5. Pembuatan model Machine learning\n",
    "langkah ini merupakan langkah dimana kita akan membuat model machine learning, algoritma yang kita gunakan merupakan decision tree dimana feature akan diurutkan berdasarkan nilai information gain yang paling besar ke kecil"
   ]
  },
  {
   "cell_type": "markdown",
   "metadata": {},
   "source": [
    "# DECISION TREE\n",
    "![title](img/pengertian.png)\n",
    "\n",
    "merupakan algoritma supervised learning yang dapat digunakan untuk klasifikasi dan juga regresi\n",
    "\n",
    "bagian root (node paling atas) merupakan feature yang memiliki nilai information gain paling besar, lalu disusul dengan feature dengan information gain yang dibawahnya hingga pada akhirnya pada bagian daun (node) diputuskan hasil klasifikasi / regresi yang dilakukan"
   ]
  },
  {
   "cell_type": "markdown",
   "metadata": {},
   "source": [
    "Kelebihan:\n",
    "* Tidak memerlukan preprosessing data numeric (melakukan standarisasi berdasarkan variance) \n",
    "* Menangani kolinearitas secara efisien\n",
    "* Decision tree memberikan penjelasan yang mudah dimengerti atas prediksi yang didapatkan\n"
   ]
  },
  {
   "cell_type": "markdown",
   "metadata": {},
   "source": [
    "Kekurangan:\n",
    "* Memiliki peluang overfit model apabila membangun model pohon dengan kemurnian tinggi (jumlah turunan pohon / ranting sangatlah banyak)\n",
    "* Rawan terhadap pencilan\n",
    "* Pohon bisa menjadi kompleks pada saat melatih dataset yang rumit\n",
    "* Apabila data latih terdapat nilai kontinu, maka informasi didalamnya dapat hilang"
   ]
  },
  {
   "cell_type": "markdown",
   "metadata": {},
   "source": [
    "untuk penjelasan lebih detail, silahkan menonton video berikut ini:\n",
    "https://www.youtube.com/watch?v=qDcl-FRnwSU"
   ]
  },
  {
   "cell_type": "code",
   "execution_count": 15,
   "metadata": {},
   "outputs": [
    {
     "output_type": "execute_result",
     "data": {
      "text/plain": "DecisionTreeClassifier(ccp_alpha=0.0, class_weight=None, criterion='gini',\n                       max_depth=None, max_features=None, max_leaf_nodes=None,\n                       min_impurity_decrease=0.0, min_impurity_split=None,\n                       min_samples_leaf=1, min_samples_split=2,\n                       min_weight_fraction_leaf=0.0, presort='deprecated',\n                       random_state=None, splitter='best')"
     },
     "metadata": {},
     "execution_count": 15
    }
   ],
   "source": [
    "#Panggil algoritma decision tree dan lakukan training menggunakan training data\n",
    "dt = DecisionTreeClassifier()\n",
    "dt.fit(X_train,y_train)"
   ]
  },
  {
   "cell_type": "markdown",
   "metadata": {},
   "source": [
    "## 6. Validasi model\n",
    "kita akan melakukan pengecekan akurasi pada model yang telah kita buat"
   ]
  },
  {
   "cell_type": "code",
   "execution_count": 16,
   "metadata": {},
   "outputs": [
    {
     "output_type": "execute_result",
     "data": {
      "text/plain": "0.98"
     },
     "metadata": {},
     "execution_count": 16
    }
   ],
   "source": [
    "#Cek akurasi model\n",
    "accuracy_score(y_test,dt.predict(X_test))"
   ]
  },
  {
   "cell_type": "code",
   "execution_count": 17,
   "metadata": {},
   "outputs": [
    {
     "output_type": "stream",
     "name": "stdout",
     "text": "precision    recall  f1-score   support\n\n       drugA       1.00      1.00      1.00         6\n       drugB       1.00      1.00      1.00         4\n       drugC       1.00      1.00      1.00         4\n       drugX       1.00      0.92      0.96        13\n       drugY       0.96      1.00      0.98        23\n\n    accuracy                           0.98        50\n   macro avg       0.99      0.98      0.99        50\nweighted avg       0.98      0.98      0.98        50\n\n"
    }
   ],
   "source": [
    "#Cek score F1 model\n",
    "print(classification_report(y_test,dt.predict(X_test)))"
   ]
  },
  {
   "cell_type": "markdown",
   "metadata": {},
   "source": [
    "Hebat! model kita memiliki akurasi diatas 80%, namun pada saat melakukan pengecekan F1 score akan terdapat label dengan F1 Score yang agak rendah, hal tersebut maklum dikarenakan jumlah data yang tidak seimbang, dan tidak dilakukannya hyperparameter tuning pada model yang telah kita buat"
   ]
  },
  {
   "cell_type": "code",
   "execution_count": 18,
   "metadata": {},
   "outputs": [
    {
     "output_type": "execute_result",
     "data": {
      "text/plain": "drugY    91\ndrugX    54\ndrugA    23\ndrugB    16\ndrugC    16\nName: Drug, dtype: int64"
     },
     "metadata": {},
     "execution_count": 18
    }
   ],
   "source": [
    "#Cek sebaran data Drug\n",
    "y.value_counts()"
   ]
  },
  {
   "cell_type": "markdown",
   "metadata": {},
   "source": [
    "Disini kita bisa lihat bahwa benar adanya jumlah data yang kita miliki tidaklah merata, karena ini hanya latihan maka praktik seperti ini tidak apa, namun pada real world case, hal ini tidak boleh dilakukan sehingga pada real world case kita harus memastikan bahwa jumlah data yang kita miliki itu seimbang\n",
    "\n",
    "Oke karena model yang sudah kita buat siap untuk dideploy, mari kita melakukan suatu prediksi berdsasarkan ketentuan:\n",
    "\n",
    "* Umur: 40\n",
    "* Sex: Perempuan\n",
    "* BP: Low\n",
    "* Cholestrol: Low\n",
    "* Na_to_K: 12\n",
    "\n",
    "apakah obat yang direkomendasikan merupakan DrugX?"
   ]
  },
  {
   "cell_type": "code",
   "execution_count": 19,
   "metadata": {},
   "outputs": [
    {
     "output_type": "execute_result",
     "data": {
      "text/plain": "array(['drugX'], dtype=object)"
     },
     "metadata": {},
     "execution_count": 19
    }
   ],
   "source": [
    "#Melakukan Prediksi\n",
    "dt.predict([[40,0,0,0,12]])"
   ]
  },
  {
   "cell_type": "markdown",
   "metadata": {},
   "source": [
    "![title](img/2.png)\n",
    "\n",
    "\n",
    "Kelebihan dari decision tree ialah karena algoritma ini menggunakan nilai information gain untuk klasifikasi, kita dapat melihat komponen apa yang paling berpengaruh dalam klasifikasi, kita akan melihat feature dengan 2 cara yaitu menggunakan feature_importances_ dan juga menggunakan visualisasi pohon"
   ]
  },
  {
   "cell_type": "code",
   "execution_count": 20,
   "metadata": {},
   "outputs": [
    {
     "output_type": "stream",
     "name": "stdout",
     "text": "{'Age': 0.13512260389206093, 'Sex': 0.0, 'BP': 0.32950836900745195, 'Cholesterol': 0.058452148826825354, 'Na_to_K': 0.47691687827366164}\n"
    }
   ],
   "source": [
    "#Melihat feature yang paling berpengaruh melalui nilai gini \n",
    "print(dict(zip(df.columns, dt.feature_importances_)))"
   ]
  },
  {
   "cell_type": "markdown",
   "metadata": {},
   "source": [
    "Disini kita mengetahui bahwa urutan feature yang paling berpengaruh ke kurang berpengaruh adalah:\n",
    "* Na_to_K\n",
    "* BP\n",
    "* Age\n",
    "* Cholesterol\n",
    "* Sex (Tidak berpengaruh sama sekali)"
   ]
  },
  {
   "cell_type": "code",
   "execution_count": 21,
   "metadata": {},
   "outputs": [
    {
     "output_type": "execute_result",
     "data": {
      "text/plain": "'Decision Tree.pdf'"
     },
     "metadata": {},
     "execution_count": 21
    }
   ],
   "source": [
    "#Membuat visualisasi pohon ke dalam file pdf dengan nama Decision Tree\n",
    "dot_data = export_graphviz(dt,out_file=None,\n",
    "                           feature_names=X.columns,\n",
    "                           class_names=y.unique(),\n",
    "                           filled=True,rounded=True,\n",
    "                           special_characters=True)\n",
    "\n",
    "graph = graphviz.Source(dot_data)                            \n",
    "graph.render('Decision Tree')"
   ]
  },
  {
   "cell_type": "markdown",
   "metadata": {},
   "source": [
    "# CONTOH VISUALISASI HASIL YANG TELAH JADI \n",
    "![title](img/pohon.png)"
   ]
  },
  {
   "cell_type": "markdown",
   "metadata": {},
   "source": [
    "# TUGAS!\n",
    "Lakukan prediksi sebagai pengganti absensi kehadiran module decisoin tree!\n",
    "\n",
    "Tugas 1:\n",
    "* Umur: 25\n",
    "* Sex: Laki-laki\n",
    "* BP: High\n",
    "* Cholestrol: High\n",
    "* Na_to_K: 25\n",
    "\n",
    "\n",
    "Tugas 2:\n",
    "* Umur: 50\n",
    "* Sex: Laki-Laki\n",
    "* BP: High\n",
    "* Cholestrol: High\n",
    "* Na_to_K: 50\n",
    "\n",
    "\n",
    "Tugas 3:\n",
    "* Umur: 25\n",
    "* Sex: Perempuan\n",
    "* BP: High\n",
    "* Cholestrol: High\n",
    "* Na_to_K: 25"
   ]
  },
  {
   "cell_type": "markdown",
   "metadata": {},
   "source": [
    "tugas bisa dikumpulkan dengan format:\n",
    "\n",
    "* Nama:\n",
    "* Hari SG:\n",
    "\n",
    "\n",
    "* tugas1: jawaban\n",
    "* tugas2: jawaban\n",
    "* tugas3: jawaban"
   ]
  },
  {
   "cell_type": "markdown",
   "metadata": {},
   "source": [
    "dikumpulkan dengan via chat idline: arasyfajar \n",
    "\n",
    "paling lambat 19 april 2020"
   ]
  }
 ]
}